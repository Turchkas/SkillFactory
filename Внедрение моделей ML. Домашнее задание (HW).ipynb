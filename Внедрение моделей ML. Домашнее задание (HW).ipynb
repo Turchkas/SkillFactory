{
 "cells": [
  {
   "cell_type": "code",
   "execution_count": 54,
   "id": "735f7f44",
   "metadata": {},
   "outputs": [],
   "source": [
    "import pandas as pd\n",
    "import numpy as np\n",
    "import scipy.stats as stats\n",
    "import matplotlib.pyplot as plt\n",
    "import seaborn as sns\n",
    "from statsmodels.stats.proportion import proportions_ztest, confint_proportions_2indep, proportion_confint\n",
    "from statsmodels.stats.weightstats import ttest_ind"
   ]
  },
  {
   "cell_type": "markdown",
   "id": "684b3c44",
   "metadata": {},
   "source": [
    "**Предобработка данных**"
   ]
  },
  {
   "cell_type": "code",
   "execution_count": 8,
   "id": "0d760a67",
   "metadata": {},
   "outputs": [
    {
     "data": {
      "text/html": [
       "<div>\n",
       "<style scoped>\n",
       "    .dataframe tbody tr th:only-of-type {\n",
       "        vertical-align: middle;\n",
       "    }\n",
       "\n",
       "    .dataframe tbody tr th {\n",
       "        vertical-align: top;\n",
       "    }\n",
       "\n",
       "    .dataframe thead th {\n",
       "        text-align: right;\n",
       "    }\n",
       "</style>\n",
       "<table border=\"1\" class=\"dataframe\">\n",
       "  <thead>\n",
       "    <tr style=\"text-align: right;\">\n",
       "      <th></th>\n",
       "      <th>user id</th>\n",
       "      <th>test group</th>\n",
       "      <th>converted</th>\n",
       "      <th>total ads</th>\n",
       "      <th>most ads day</th>\n",
       "      <th>most ads hour</th>\n",
       "    </tr>\n",
       "  </thead>\n",
       "  <tbody>\n",
       "    <tr>\n",
       "      <th>0</th>\n",
       "      <td>1069124</td>\n",
       "      <td>ad</td>\n",
       "      <td>False</td>\n",
       "      <td>130</td>\n",
       "      <td>Monday</td>\n",
       "      <td>20</td>\n",
       "    </tr>\n",
       "    <tr>\n",
       "      <th>1</th>\n",
       "      <td>1119715</td>\n",
       "      <td>ad</td>\n",
       "      <td>False</td>\n",
       "      <td>93</td>\n",
       "      <td>Tuesday</td>\n",
       "      <td>22</td>\n",
       "    </tr>\n",
       "    <tr>\n",
       "      <th>2</th>\n",
       "      <td>1144181</td>\n",
       "      <td>ad</td>\n",
       "      <td>False</td>\n",
       "      <td>21</td>\n",
       "      <td>Tuesday</td>\n",
       "      <td>18</td>\n",
       "    </tr>\n",
       "    <tr>\n",
       "      <th>3</th>\n",
       "      <td>1435133</td>\n",
       "      <td>ad</td>\n",
       "      <td>False</td>\n",
       "      <td>355</td>\n",
       "      <td>Tuesday</td>\n",
       "      <td>10</td>\n",
       "    </tr>\n",
       "    <tr>\n",
       "      <th>4</th>\n",
       "      <td>1015700</td>\n",
       "      <td>ad</td>\n",
       "      <td>False</td>\n",
       "      <td>276</td>\n",
       "      <td>Friday</td>\n",
       "      <td>14</td>\n",
       "    </tr>\n",
       "  </tbody>\n",
       "</table>\n",
       "</div>"
      ],
      "text/plain": [
       "   user id test group  converted  total ads most ads day  most ads hour\n",
       "0  1069124         ad      False        130       Monday             20\n",
       "1  1119715         ad      False         93      Tuesday             22\n",
       "2  1144181         ad      False         21      Tuesday             18\n",
       "3  1435133         ad      False        355      Tuesday             10\n",
       "4  1015700         ad      False        276       Friday             14"
      ]
     },
     "execution_count": 8,
     "metadata": {},
     "output_type": "execute_result"
    }
   ],
   "source": [
    "df = pd.read_csv('marketing_AB.csv').drop(columns='Unnamed: 0')\n",
    "df.head()"
   ]
  },
  {
   "cell_type": "code",
   "execution_count": null,
   "id": "496a30c6",
   "metadata": {},
   "outputs": [
    {
     "name": "stdout",
     "output_type": "stream",
     "text": [
      "<class 'pandas.core.frame.DataFrame'>\n",
      "RangeIndex: 588101 entries, 0 to 588100\n",
      "Data columns (total 6 columns):\n",
      " #   Column         Non-Null Count   Dtype \n",
      "---  ------         --------------   ----- \n",
      " 0   user id        588101 non-null  int64 \n",
      " 1   test group     588101 non-null  object\n",
      " 2   converted      588101 non-null  bool  \n",
      " 3   total ads      588101 non-null  int64 \n",
      " 4   most ads day   588101 non-null  object\n",
      " 5   most ads hour  588101 non-null  int64 \n",
      "dtypes: bool(1), int64(3), object(2)\n",
      "memory usage: 23.0+ MB\n"
     ]
    }
   ],
   "source": [
    "#Пропусков нет, типы данных корректны\n",
    "df.info()"
   ]
  },
  {
   "cell_type": "code",
   "execution_count": null,
   "id": "5f29b458",
   "metadata": {},
   "outputs": [
    {
     "data": {
      "text/plain": [
       "user id\n",
       "1069124    1\n",
       "1116707    1\n",
       "1275145    1\n",
       "1338348    1\n",
       "1352590    1\n",
       "          ..\n",
       "1381349    1\n",
       "1526572    1\n",
       "1144916    1\n",
       "1321771    1\n",
       "1237779    1\n",
       "Name: count, Length: 588101, dtype: int64"
      ]
     },
     "execution_count": 19,
     "metadata": {},
     "output_type": "execute_result"
    }
   ],
   "source": [
    "#Каждый пользователь встречается только 1 раз\n",
    "df['user id'].value_counts(ascending=False)"
   ]
  },
  {
   "cell_type": "markdown",
   "id": "639b1460",
   "metadata": {},
   "source": [
    "**Первичный анализ результатов A/B-тестирования**"
   ]
  },
  {
   "cell_type": "code",
   "execution_count": 39,
   "id": "5671a324",
   "metadata": {},
   "outputs": [
    {
     "name": "stdout",
     "output_type": "stream",
     "text": [
      "Количество пользователей в группах:\n",
      "Контрольная группа (PSA): 23524\n",
      "Тестовая группа (AD): 564577\n",
      "\n",
      "Суммарное количество покупок в группах:\n",
      "Контрольная группа (PSA): 420\n",
      "Тестовая группа (AD): 14423\n",
      "\n",
      "Ключевые показатели:\n",
      "Конверсия в контрольной группе: 1.79%\n",
      "Конверсия в тестовой группе: 2.55%\n",
      "Среднее количество рекламы в контрольной группе: 24.76\n",
      "Среднее количество рекламы в тестовой группе: 24.82\n"
     ]
    }
   ],
   "source": [
    "control = df[df['test group'] == 'psa']\n",
    "test = df[df['test group'] == 'ad']\n",
    "\n",
    "# Расчет вспомогательных показателей\n",
    "print(\"Количество пользователей в группах:\")\n",
    "print(f\"Контрольная группа (PSA): {len(control)}\")\n",
    "print(f\"Тестовая группа (AD): {len(test)}\")\n",
    "\n",
    "print(\"\\nСуммарное количество покупок в группах:\")\n",
    "print(f\"Контрольная группа (PSA): {control['converted'].sum()}\")\n",
    "print(f\"Тестовая группа (AD): {test['converted'].sum()}\")\n",
    "\n",
    "print(\"\\nКлючевые показатели:\")\n",
    "print(f\"Конверсия в контрольной группе: {round(control['converted'].mean()*100, 2)}%\")\n",
    "print(f\"Конверсия в тестовой группе: {round(test['converted'].mean()*100, 2)}%\")\n",
    "print(f\"Среднее количество рекламы в контрольной группе: {round(control['total ads'].mean(), 2)}\")\n",
    "print(f\"Среднее количество рекламы в тестовой группе: {round(test['total ads'].mean(), 2)}\")"
   ]
  },
  {
   "cell_type": "code",
   "execution_count": null,
   "id": "83c18e27",
   "metadata": {},
   "outputs": [
    {
     "data": {
      "image/png": "[encoded data removed]",
      "text/plain": [
       "<Figure size 1200x500 with 2 Axes>"
      ]
     },
     "metadata": {},
     "output_type": "display_data"
    }
   ],
   "source": [
    "plt.figure(figsize=(12, 5))\n",
    "\n",
    "plt.subplot(1, 2, 1)\n",
    "sns.barplot(x='test group', y='converted', data=df, errorbar=None)\n",
    "plt.title('Конверсия в группах')\n",
    "plt.ylabel('Конверсия')\n",
    "\n",
    "plt.subplot(1, 2, 2)\n",
    "sns.boxplot(x='test group', y='total ads', data=df)\n",
    "plt.title('Распределение количества рекламы')\n",
    "plt.ylabel('Количество рекламы')\n",
    "\n",
    "plt.tight_layout()\n",
    "plt.show()"
   ]
  },
  {
   "cell_type": "markdown",
   "id": "b067ba40",
   "metadata": {},
   "source": [
    "По конверсии можно сделать вывод, что пользователи, видевшие рекламу, чаще совершали покупки, а также принимая во внимание то, что среднее количество просмотренной рекламы в группах почти одинаковое, разница в конверсии объясняется именно просмотром рекламы, что говорит, предварительно, в пользу нашей рекламной компании. Дальнейший стат.тест покажет значимость наблюдаемых различий"
   ]
  },
  {
   "cell_type": "markdown",
   "id": "935e17a3",
   "metadata": {},
   "source": [
    "**Проведение статистического анализ результатов A/B-тестирования**"
   ]
  },
  {
   "cell_type": "markdown",
   "id": "eb3ba375",
   "metadata": {},
   "source": [
    "***Бизнес-вопросы и соответствующие гипотезы***  \n",
    "  \n",
    "**Вопрос 1:**  \n",
    "\"Приводит ли реклама (AD) к увеличению конверсии по сравнению с контрольной группой (PSA)?\"\n",
    "\n",
    "Нулевая гипотеза (H0):  \n",
    "Конверсия в группе AD не отличается от конверсии в группе PSA  \n",
    "Альтернативная гипотеза (H1):  \n",
    "Конверсия в группе AD выше, чем в группе PSA  \n",
    "Выбор теста:  \n",
    "\n",
    "Z-тест для односторонней проверки (нам важно именно увеличение конверсии)\n",
    "\n",
    "**Вопрос 2:**\n",
    "\"Отличается ли среднее количество показов рекламы (total ads) между группами?\"\n",
    "\n",
    "Нулевая гипотеза (H0):  \n",
    "Среднее количество рекламы в группе AD равно среднему в группе PSA  \n",
    "Альтернативная гипотеза (H1):  \n",
    "Среднее количество рекламы в группе AD отличается от группы PSA\n",
    "\n",
    "Выбор теста:\n",
    "\n",
    "U-тест Манна-Уитни (непараметрический), так как данные не нормальные (подтвердим это ниже)\n"
   ]
  },
  {
   "cell_type": "code",
   "execution_count": 50,
   "id": "323ac0b2",
   "metadata": {},
   "outputs": [
    {
     "name": "stdout",
     "output_type": "stream",
     "text": [
      "KS-тест (Контрольная группа): p-value=0.0\n",
      "KS-тест (Тестовая группа): p-value=0.0\n"
     ]
    }
   ],
   "source": [
    "#Проверим на нормальность с помощью теста Колмогорова-Смирнова\n",
    "from scipy.stats import kstest, norm\n",
    "mean, std = control['total ads'].mean(), control['total ads'].std()\n",
    "ks_stat, p_value = kstest(control['total ads'], 'norm', args=(mean, std))\n",
    "print(f\"KS-тест (Контрольная группа): p-value={p_value}\")\n",
    "mean, std = test['total ads'].mean(), test['total ads'].std()\n",
    "ks_stat, p_value = kstest(test['total ads'], 'norm', args=(mean, std))\n",
    "print(f\"KS-тест (Тестовая группа): p-value={p_value}\")"
   ]
  },
  {
   "cell_type": "code",
   "execution_count": 59,
   "id": "a1433b52",
   "metadata": {},
   "outputs": [
    {
     "name": "stdout",
     "output_type": "stream",
     "text": [
      "Конверсия AD: 0.025546559636683747 [95% Доверительный интервал: (0.02513821650599992, 0.025961359215123686)]\n",
      "Конверсия PSA: 0.01785410644448223 [95% Доверительный интервал: (0.016238943989596074, 0.019626711612411318)]\n"
     ]
    }
   ],
   "source": [
    "conversions = [test['converted'].sum(), control['converted'].sum()]\n",
    "nobs = [len(test), len(control)]\n",
    "\n",
    "#Доверительный интервал для AD (тестовая группа)\n",
    "ci_ad = proportion_confint(count=conversions[0], nobs=nobs[0], alpha=0.05, method='wilson')\n",
    "\n",
    "#Доверительный интервал для PSA (контрольная группа)\n",
    "ci_psa = proportion_confint(count=conversions[1], nobs=nobs[1], alpha=0.05, method='wilson')\n",
    "\n",
    "print(f\"Конверсия AD: {conversions[0] / nobs[0]} [95% Доверительный интервал: ({ci_ad[0]}, {ci_ad[1]})]\")\n",
    "print(f\"Конверсия PSA: {conversions[1] / nobs[1]} [95% Доверительный интервал: ({ci_psa[0]}, {ci_psa[1]})]\")"
   ]
  },
  {
   "cell_type": "markdown",
   "id": "d76bc070",
   "metadata": {},
   "source": [
    "**Доверительные интервалы не перекрываются**"
   ]
  },
  {
   "cell_type": "code",
   "execution_count": null,
   "id": "f9b69444",
   "metadata": {},
   "outputs": [
    {
     "name": "stdout",
     "output_type": "stream",
     "text": [
      "Z-тест для конверсий: z=7.3700781265454145, p-value=1.7052807161559727e-13\n",
      "95% доверительный интервал для разницы конверсий (AD - PSA): (0.005873422353060636, 0.009360028811460754)\n"
     ]
    }
   ],
   "source": [
    "# Проверка разницы конверсий\n",
    "zstat, pvalue = proportions_ztest(conversions, nobs)\n",
    "print(f\"Z-тест для конверсий: z={zstat}, p-value={pvalue}\")\n",
    "\n",
    "# Доверительные интервалы для конверсий\n",
    "ci_control = confint_proportions_2indep(test['converted'].sum(), len(test), \n",
    "                                      control['converted'].sum(), len(control), \n",
    "                                      compare='diff')\n",
    "print(f\"95% доверительный интервал для разницы конверсий (AD - PSA): ({ci_control[0]}, {ci_control[1]})\")"
   ]
  },
  {
   "cell_type": "markdown",
   "id": "f584ea30",
   "metadata": {},
   "source": [
    "**Вывод по p-value:**  \n",
    "Поскольку p-value < 0.05, мы отвергаем H0. Тест обнаружил статистически значимые различия между группами. Реклама увеличила конверсию на 0.6–0.9 процентных пунктов с 95% уверенностью"
   ]
  },
  {
   "cell_type": "code",
   "execution_count": 36,
   "id": "4764cd8b",
   "metadata": {},
   "outputs": [
    {
     "name": "stdout",
     "output_type": "stream",
     "text": [
      "U-тест Манна-Уитни для количества рекламы: U=6808288222.0, p-value=4.6909108547205694e-11\n",
      "Разница среднего количества рекламы (AD - PSA): 0.06222754179223955\n",
      "95% доверительный интервал: (-0.49724707757679376, 0.6217021611612729)\n"
     ]
    }
   ],
   "source": [
    "# Так как распределение не нормальное (см.выше), используем непараметрический тест\n",
    "u_stat, p_value_ads = stats.mannwhitneyu(test['total ads'], control['total ads'])\n",
    "print(f\"U-тест Манна-Уитни для количества рекламы: U={u_stat}, p-value={p_value_ads}\")\n",
    "\n",
    "# Доверительные интервалы для среднего количества рекламы\n",
    "ads_test = test['total ads'].values\n",
    "ads_control = control['total ads'].values\n",
    "\n",
    "# Разница средних\n",
    "mean_diff = np.mean(ads_test) - np.mean(ads_control)\n",
    "\n",
    "# Стандартные ошибки\n",
    "se_test = np.std(ads_test, ddof=1) / np.sqrt(len(ads_test))\n",
    "se_control = np.std(ads_control, ddof=1) / np.sqrt(len(ads_control))\n",
    "\n",
    "# Общая стандартная ошибка разницы\n",
    "se_diff = np.sqrt(se_test**2 + se_control**2)\n",
    "\n",
    "# Z-критерий для 95% доверительного интервала\n",
    "z_value = stats.norm.ppf(0.975)  # 1.96 для 95% ДИ\n",
    "\n",
    "# Границы интервала\n",
    "lower = mean_diff - z_value * se_diff\n",
    "upper = mean_diff + z_value * se_diff\n",
    "\n",
    "print(f\"Разница среднего количества рекламы (AD - PSA): {mean_diff}\")\n",
    "print(f\"95% доверительный интервал: ({lower}, {upper})\")"
   ]
  },
  {
   "cell_type": "markdown",
   "id": "cb5d9a64",
   "metadata": {},
   "source": [
    "**Вывод по p-value:**  \n",
    "Поскольку p-value < 0.05, мы отвергаем H0. Тест обнаружил статистически значимые различия между группами, но значение U очень огромно, что можно трактовать как нахождения даже самых крошечных различий, и размер эффекта и доверительный интервал показывают, что это бессмысленно"
   ]
  },
  {
   "cell_type": "markdown",
   "id": "abce19ad",
   "metadata": {},
   "source": [
    "**Заключение**  \n",
    "Реклама (AD) успешно увеличила конверсию без влияния на частоту показов. Результаты статистически значимы (p-value около 0, ДИ не перекрываются), разница только в рекламном воздействии\n",
    "\n",
    "Можно внедрить рекламную стратегию на всей аудитории"
   ]
  }
 ],
 "metadata": {
  "kernelspec": {
   "display_name": "base",
   "language": "python",
   "name": "python3"
  },
  "language_info": {
   "codemirror_mode": {
    "name": "ipython",
    "version": 3
   },
   "file_extension": ".py",
   "mimetype": "text/x-python",
   "name": "python",
   "nbconvert_exporter": "python",
   "pygments_lexer": "ipython3",
   "version": "3.12.3"
  }
 },
 "nbformat": 4,
 "nbformat_minor": 5
}
