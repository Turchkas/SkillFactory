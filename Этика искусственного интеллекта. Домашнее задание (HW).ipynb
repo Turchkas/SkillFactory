{
 "cells": [
  {
   "cell_type": "code",
   "execution_count": 1,
   "id": "f9a8af12",
   "metadata": {},
   "outputs": [],
   "source": [
    "import numpy as np\n",
    "import pandas as pd\n",
    "from sklearn.model_selection import train_test_split\n",
    "from sklearn.feature_extraction.text import CountVectorizer\n",
    "from sklearn.linear_model import LogisticRegression\n",
    "from sklearn.metrics import accuracy_score"
   ]
  },
  {
   "cell_type": "code",
   "execution_count": 2,
   "id": "5e7f6093",
   "metadata": {},
   "outputs": [],
   "source": [
    "# Get the same results each time\n",
    "np.random.seed(0)\n",
    "\n",
    "# Load the training data\n",
    "data = pd.read_csv(\"data.csv\")\n",
    "comments = data[\"comment_text\"]\n",
    "target = (data[\"target\"]>0.7).astype(int)"
   ]
  },
  {
   "cell_type": "markdown",
   "id": "e40e903c",
   "metadata": {},
   "source": [
    "**Задание 1: Разделение данных на train и test**"
   ]
  },
  {
   "cell_type": "code",
   "execution_count": 3,
   "id": "f4712926",
   "metadata": {},
   "outputs": [],
   "source": [
    "X_train, X_test, y_train, y_test = train_test_split(comments, target, test_size=0.3, random_state=42)"
   ]
  },
  {
   "cell_type": "markdown",
   "id": "fa528666",
   "metadata": {},
   "source": [
    "**Задание 2: Преобразование текста в числовой формат**"
   ]
  },
  {
   "cell_type": "code",
   "execution_count": 4,
   "id": "37063efd",
   "metadata": {},
   "outputs": [],
   "source": [
    "vectorizer = CountVectorizer()\n",
    "X_train_vec = vectorizer.fit_transform(X_train)\n",
    "X_test_vec = vectorizer.transform(X_test)"
   ]
  },
  {
   "cell_type": "markdown",
   "id": "7a43022d",
   "metadata": {},
   "source": [
    "**Задание 3: Обучение модели логистической регрессии**"
   ]
  },
  {
   "cell_type": "code",
   "execution_count": 5,
   "id": "6e445a10",
   "metadata": {},
   "outputs": [
    {
     "name": "stdout",
     "output_type": "stream",
     "text": [
      "Accuracy: 0.93\n"
     ]
    }
   ],
   "source": [
    "lr = LogisticRegression(max_iter=2000)\n",
    "lr.fit(X_train_vec, y_train)\n",
    "print(f'Accuracy: {round(accuracy_score(y_test, lr.predict(X_test_vec)), 2)}')"
   ]
  },
  {
   "cell_type": "markdown",
   "id": "82a07a79",
   "metadata": {},
   "source": [
    "**Задание 4: Функция для предсказания токсичности**"
   ]
  },
  {
   "cell_type": "code",
   "execution_count": 14,
   "id": "dbe2d9f9",
   "metadata": {},
   "outputs": [],
   "source": [
    "def func_predict(comment):\n",
    "    return round(lr.predict_proba(vectorizer.transform([comment]))[0][1], 2)"
   ]
  },
  {
   "cell_type": "markdown",
   "id": "2940eb01",
   "metadata": {},
   "source": [
    "**Задание 5: Тестирование модели на примерах**"
   ]
  },
  {
   "cell_type": "code",
   "execution_count": 15,
   "id": "6dc7963f",
   "metadata": {},
   "outputs": [
    {
     "name": "stdout",
     "output_type": "stream",
     "text": [
      "'Apples are stupid': 1.0\n",
      "'I love apples': 0.06\n"
     ]
    }
   ],
   "source": [
    "print(\"'Apples are stupid':\", func_predict(\"Apples are stupid\"))\n",
    "print(\"'I love apples':\", func_predict(\"I love apples\"))"
   ]
  },
  {
   "cell_type": "markdown",
   "id": "c1d08cd2",
   "metadata": {},
   "source": [
    "**Задание 6: Вывод самых токсичных слов**"
   ]
  },
  {
   "cell_type": "code",
   "execution_count": 16,
   "id": "a738dc74",
   "metadata": {},
   "outputs": [
    {
     "name": "stdout",
     "output_type": "stream",
     "text": [
      "10 самых токсичных слов:\n",
      "stupid: 9.225\n",
      "idiot: 8.719\n",
      "idiots: 8.445\n",
      "stupidity: 7.533\n",
      "idiotic: 6.814\n",
      "crap: 6.569\n",
      "dumb: 6.441\n",
      "pathetic: 6.412\n",
      "hypocrite: 6.374\n",
      "moron: 6.351\n"
     ]
    }
   ],
   "source": [
    "feature_names = vectorizer.get_feature_names_out()\n",
    "coef = lr.coef_[0]\n",
    "top_toxic_word = coef.argsort()[-10:][::-1]\n",
    "\n",
    "print('10 самых токсичных слов:')\n",
    "for i in top_toxic_word:\n",
    "    print(f'{feature_names[i]}: {round(coef[i], 3)}')"
   ]
  },
  {
   "cell_type": "markdown",
   "id": "c49f6147",
   "metadata": {},
   "source": [
    "**Задание 7: Анализ токсичных слов**"
   ]
  },
  {
   "cell_type": "markdown",
   "id": "9a326ca3",
   "metadata": {},
   "source": [
    "Вызывают ли у вас удивление какие-нибудь из них? - Нет, типичные английские ругательства, а какие не напрямую ругательные, то так или иначе с негативным подтекстом слова"
   ]
  },
  {
   "cell_type": "markdown",
   "id": "a85c4246",
   "metadata": {},
   "source": [
    "**Задание 8: Тестирование на предвзятость**"
   ]
  },
  {
   "cell_type": "code",
   "execution_count": 18,
   "id": "3a98a4af",
   "metadata": {},
   "outputs": [
    {
     "name": "stdout",
     "output_type": "stream",
     "text": [
      "'I have a christian friend': 0.19\n",
      "'I have a muslim friend': 0.51\n",
      "'I have a white friend': 0.4\n",
      "'I have a black friend': 0.59\n"
     ]
    }
   ],
   "source": [
    "list_comments = [\n",
    "    'I have a christian friend',\n",
    "    'I have a muslim friend',\n",
    "    'I have a white friend',\n",
    "    'I have a black friend'\n",
    "]\n",
    "\n",
    "for comment in list_comments:\n",
    "    print(f\"'{comment}': {round(func_predict(comment), 2)}\")"
   ]
  },
  {
   "cell_type": "markdown",
   "id": "ca9a10e8",
   "metadata": {},
   "source": [
    "***Результаты демонстрируют явную предвзятость модели, причем в нескольких аспектах:***\n",
    "  \n",
    "1. Религиозный:\n",
    "Христианство: _0.19_ (низкий риск токсичности)  \n",
    "\n",
    "Ислам: _0.51_ (высокий риск, почти в 3 раза выше)  \n",
    "\n",
    "Это отражает исламофобию, присутствующую в исходных данных  \n",
    "\n",
    "2. Расовый:\n",
    "\n",
    "\"White friend\": _0.40_  \n",
    "\n",
    "\"Black friend\": _0.59_ (на 48% выше)\n",
    "\n",
    "Модель ассоциирует упоминание чернокожих с токсичностью сильнее  \n",
    "\n",
    "3. Абсурдность абсолютных значений:\n",
    "\n",
    "Нейтральные фразы формата \"I have a X friend\" вообще не должны классифицироваться как токсичные"
   ]
  },
  {
   "cell_type": "markdown",
   "id": "a7b6c491",
   "metadata": {},
   "source": [
    "**Задание 9: Тип предвзятости**"
   ]
  },
  {
   "cell_type": "markdown",
   "id": "8271f51f",
   "metadata": {},
   "source": [
    "Это пример исторической предвзятости (historical bias), где существующие в обществе стереотипы и предубеждения отражаются в данных. Модель учится на этих данных и воспроизводит те же предубеждения"
   ]
  },
  {
   "cell_type": "markdown",
   "id": "3774fa28",
   "metadata": {},
   "source": [
    "**Задание 10: Идеи для улучшения**"
   ]
  },
  {
   "cell_type": "markdown",
   "id": "4f932351",
   "metadata": {},
   "source": [
    "1. Сразу напрашивается балансировка данных, чтобы обеспечить равное представление разных групп в обучающих данных\n",
    "\n",
    "2. Удаление токсичных примеров с расистскими/религиозными стереотипами, чтобы не тянуть их в модель\n",
    "\n",
    "3. Оценивать не отдельные слова, а общий смысл комментария"
   ]
  }
 ],
 "metadata": {
  "kernelspec": {
   "display_name": "base",
   "language": "python",
   "name": "python3"
  },
  "language_info": {
   "codemirror_mode": {
    "name": "ipython",
    "version": 3
   },
   "file_extension": ".py",
   "mimetype": "text/x-python",
   "name": "python",
   "nbconvert_exporter": "python",
   "pygments_lexer": "ipython3",
   "version": "3.12.3"
  }
 },
 "nbformat": 4,
 "nbformat_minor": 5
}
