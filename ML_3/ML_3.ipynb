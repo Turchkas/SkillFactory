{
 "cells": [
  {
   "cell_type": "markdown",
   "id": "f6eb6892",
   "metadata": {},
   "source": [
    "Жадаев Василий Васильевич  \n",
    "МИФИ М24-525"
   ]
  },
  {
   "cell_type": "code",
   "execution_count": 1,
   "id": "cc394ec9",
   "metadata": {},
   "outputs": [
    {
     "name": "stdout",
     "output_type": "stream",
     "text": [
      "Downloading butterflies-classification.zip to .\\butterflies-classification\n"
     ]
    },
    {
     "name": "stderr",
     "output_type": "stream",
     "text": [
      "100%|██████████| 132M/132M [00:00<00:00, 1.38GB/s]"
     ]
    },
    {
     "name": "stdout",
     "output_type": "stream",
     "text": [
      "\n",
      "Extracting archive .\\butterflies-classification/butterflies-classification.zip to .\\butterflies-classification\n"
     ]
    },
    {
     "name": "stderr",
     "output_type": "stream",
     "text": [
      "\n"
     ]
    }
   ],
   "source": [
    "!pip install opendatasets --quiet\n",
    "import opendatasets as od\n",
    "import pandas as pd\n",
    "\n",
    "url = 'https://www.kaggle.com/competitions/butterflies-classification'\n",
    "od.download(url)"
   ]
  },
  {
   "cell_type": "markdown",
   "id": "5762c692",
   "metadata": {},
   "source": [
    "**1. Предварительное исследование данных**"
   ]
  },
  {
   "cell_type": "code",
   "execution_count": 2,
   "id": "c29f587d",
   "metadata": {},
   "outputs": [
    {
     "name": "stdout",
     "output_type": "stream",
     "text": [
      "Количество классов: 50\n"
     ]
    },
    {
     "data": {
      "image/png": "[encoded data removed]",
      "text/plain": [
       "<Figure size 640x480 with 1 Axes>"
      ]
     },
     "metadata": {},
     "output_type": "display_data"
    }
   ],
   "source": [
    "import os\n",
    "import matplotlib.pyplot as plt\n",
    "from PIL import Image\n",
    "import seaborn as sns\n",
    "from torchvision import datasets\n",
    "\n",
    "train = 'butterflies-classification/train_butterflies/train_split'\n",
    "test = 'butterflies-classification/test_butterflies/valid'\n",
    "\n",
    "classes = os.listdir(train)\n",
    "classes_cnt = len(classes)\n",
    "print(f\"Количество классов: {classes_cnt}\")\n",
    "\n",
    "class_counts = {cls: len(os.listdir(os.path.join(train, cls))) for cls in classes}\n",
    "sns.barplot(x=list(class_counts.keys()), y=list(class_counts.values()))\n",
    "plt.xticks(rotation=90)\n",
    "plt.title(\"Распределение классов\")\n",
    "plt.show()"
   ]
  },
  {
   "cell_type": "markdown",
   "id": "1c07d72a",
   "metadata": {},
   "source": [
    "**2. Подготовка данных**"
   ]
  },
  {
   "cell_type": "markdown",
   "id": "8b5e90f5",
   "metadata": {},
   "source": [
    "Сделаем аугментации и нормализацию тренировачного датасета для увеличения обобщающей способности модели, разобъем тренировачную выборку на train и val. Для тестового датасета только нормалицазию и ресайз, чтобы не менять изображения"
   ]
  },
  {
   "cell_type": "code",
   "execution_count": null,
   "id": "9f57fb68",
   "metadata": {},
   "outputs": [],
   "source": [
    "import torch\n",
    "from torchvision import transforms\n",
    "from torch.utils.data import Dataset, DataLoader, random_split\n",
    "from PIL import Image\n",
    "\n",
    "#Делаем аугментацию и препроцессинг\n",
    "train_transforms = transforms.Compose([\n",
    "    transforms.Resize((224 + 32, 224 + 32)),\n",
    "    transforms.RandomCrop(224),\n",
    "    transforms.RandomHorizontalFlip(),\n",
    "    transforms.RandomRotation(15),\n",
    "    transforms.ColorJitter(0.2, 0.2, 0.2),\n",
    "    transforms.ToTensor(),\n",
    "    transforms.Normalize([0.485, 0.456, 0.406], [0.229, 0.224, 0.225]) #были предварительно рассчитаны на датасете ImageNet\n",
    "])\n",
    "\n",
    "test_transforms = transforms.Compose([\n",
    "    transforms.Resize((224, 224)),\n",
    "    transforms.ToTensor(),\n",
    "    transforms.Normalize([0.485, 0.456, 0.406], [0.229, 0.224, 0.225]) #были предварительно рассчитаны на датасете ImageNet\n",
    "])\n",
    "\n",
    "class TestDataset(Dataset):\n",
    "    def __init__(self, test, transform=None):\n",
    "        self.test = test\n",
    "        self.transform = transform\n",
    "        self.image_files = sorted(\n",
    "            [f for f in os.listdir(test) if f.endswith('.jpg')],\n",
    "            key=lambda x: int(x.split('.')[0])\n",
    "        )\n",
    "\n",
    "    def __len__(self):\n",
    "        return len(self.image_files)\n",
    "    #Возвращаем пару: image, index\n",
    "    def __getitem__(self, idx):\n",
    "        img_name = os.path.join(self.test, self.image_files[idx])\n",
    "        image = Image.open(img_name).convert('RGB')\n",
    "        if self.transform:\n",
    "            image = self.transform(image)\n",
    "        return image, int(self.image_files[idx].split('.')[0])\n",
    "\n",
    "train_full = datasets.ImageFolder(train, transform=train_transforms)\n",
    "train_size = int(0.9 * len(train_full))\n",
    "val_size = len(train_full) - train_size\n",
    "train_set, val_set = random_split(train_full, [train_size, val_size])\n",
    "\n",
    "train_loader = DataLoader(train_set, batch_size=32, shuffle=True, num_workers=0)\n",
    "val_loader = DataLoader(val_set, batch_size=32, shuffle=False, num_workers=0)\n",
    "test_loader = DataLoader(TestDataset(test, transform=test_transforms), batch_size=32, shuffle=False, num_workers=0)"
   ]
  },
  {
   "cell_type": "markdown",
   "id": "f71c61be",
   "metadata": {},
   "source": [
    "**3. Реализация моделей**"
   ]
  },
  {
   "cell_type": "markdown",
   "id": "6dbc0fb2",
   "metadata": {},
   "source": [
    "Реализуем простую сверточную нейроную сетку, а также 2 предобученные модели: MobileNetV2 и EfficientNetB0"
   ]
  },
  {
   "cell_type": "code",
   "execution_count": 4,
   "id": "3181e7c4",
   "metadata": {},
   "outputs": [],
   "source": [
    "import torch.nn as nn\n",
    "import torchvision.models as models\n",
    "\n",
    "# Простая CNN\n",
    "class SimpleCNN(nn.Module):\n",
    "    def __init__(self, classes_cnt):\n",
    "        super(SimpleCNN, self).__init__()\n",
    "        self.net = nn.Sequential(\n",
    "            nn.Conv2d(3, 32, kernel_size=3, padding=1),\n",
    "            nn.ReLU(),\n",
    "            nn.MaxPool2d(2),\n",
    "            nn.Conv2d(32, 64, kernel_size=3, padding=1),\n",
    "            nn.ReLU(),\n",
    "            nn.MaxPool2d(2),\n",
    "            nn.Flatten(),\n",
    "            nn.Linear(64 * 56 * 56, 256),\n",
    "            nn.ReLU(),\n",
    "            nn.Dropout(0.3),\n",
    "            nn.Linear(256, classes_cnt)\n",
    "        )\n",
    "\n",
    "    def forward(self, x):\n",
    "        return self.net(x)\n",
    "\n",
    "# MobileNetV2\n",
    "def build_mobilenet(classes_cnt):\n",
    "    model = models.mobilenet_v2(pretrained=True)\n",
    "    model.classifier[1] = nn.Linear(model.last_channel, classes_cnt)\n",
    "    return model\n",
    "\n",
    "# EfficientNetB0\n",
    "def build_efficientnet(classes_cnt):\n",
    "    model = models.efficientnet_b0(pretrained=True)\n",
    "    in_features = model.classifier[1].in_features\n",
    "    model.classifier[1] = nn.Linear(in_features, classes_cnt)\n",
    "    return model"
   ]
  },
  {
   "cell_type": "markdown",
   "id": "fed91f2b",
   "metadata": {},
   "source": [
    "**4. Обучение и валидация**"
   ]
  },
  {
   "cell_type": "code",
   "execution_count": null,
   "id": "069dc797",
   "metadata": {},
   "outputs": [
    {
     "name": "stderr",
     "output_type": "stream",
     "text": [
      "C:\\Users\\Игнат\\AppData\\Roaming\\Python\\Python39\\site-packages\\tqdm\\auto.py:21: TqdmWarning: IProgress not found. Please update jupyter and ipywidgets. See https://ipywidgets.readthedocs.io/en/stable/user_install.html\n",
      "  from .autonotebook import tqdm as notebook_tqdm\n"
     ]
    }
   ],
   "source": [
    "from tqdm.auto import tqdm\n",
    "\n",
    "def train_model(model, train_loader, val_loader, epochs=10, lr=1e-3):\n",
    "    model = model.to('cuda')\n",
    "    optimizer = torch.optim.AdamW(model.parameters(), lr=lr)\n",
    "    criterion = nn.CrossEntropyLoss()\n",
    "    best_acc = 0.0\n",
    "    for epoch in range(epochs):\n",
    "        model.train()\n",
    "        running_loss = 0.0\n",
    "        correct, total = 0, 0\n",
    "        for images, labels in tqdm(train_loader, desc=f'Train Epoch {epoch+1}'):\n",
    "            images, labels = images.to('cuda'), labels.to('cuda')\n",
    "            optimizer.zero_grad()\n",
    "            outputs = model(images)\n",
    "            loss = criterion(outputs, labels)\n",
    "            loss.backward()\n",
    "            optimizer.step()\n",
    "\n",
    "            running_loss += loss.item() * images.size(0)\n",
    "            _, preds = torch.max(outputs, 1)\n",
    "            correct += (preds == labels).sum().item()\n",
    "            total += labels.size(0)\n",
    "\n",
    "        train_acc = correct / total\n",
    "        val_loss, val_acc = validate_model(model, val_loader, criterion)\n",
    "        print(f\"Epoch {epoch+1}: Train Acc={train_acc}, Val Acc={val_acc}\")\n",
    "        if val_acc > best_acc:\n",
    "            best_acc = val_acc\n",
    "            best_model_state = model.state_dict()\n",
    "\n",
    "    model.load_state_dict(best_model_state)\n",
    "    return model, best_acc\n",
    "\n",
    "\n",
    "@torch.no_grad()\n",
    "def validate_model(model, val_loader, criterion):\n",
    "    model.eval()\n",
    "    val_loss = 0.0\n",
    "    correct, total = 0, 0\n",
    "    for images, labels in tqdm(val_loader, desc='Validation'):\n",
    "        images, labels = images.to('cuda'), labels.to('cuda')\n",
    "        outputs = model(images)\n",
    "        loss = criterion(outputs, labels)\n",
    "        val_loss += loss.item() * images.size(0)\n",
    "        _, preds = torch.max(outputs, 1)\n",
    "        correct += (preds == labels).sum().item()\n",
    "        total += labels.size(0)\n",
    "    return val_loss / total, correct / total"
   ]
  },
  {
   "cell_type": "markdown",
   "id": "eef2ca55",
   "metadata": {},
   "source": [
    "**5. Предсказания**"
   ]
  },
  {
   "cell_type": "code",
   "execution_count": 6,
   "id": "737c63b0",
   "metadata": {},
   "outputs": [],
   "source": [
    "import pandas as pd\n",
    "import torch.nn.functional as F\n",
    "\n",
    "@torch.no_grad()\n",
    "def create_submission(model, test_loader, train_dataset):\n",
    "    model.eval()\n",
    "    predictions = []\n",
    "    indices = []\n",
    "    idx_to_class = {v: k for k, v in train_dataset.class_to_idx.items()}\n",
    "    for images, idxs in tqdm(test_loader, desc=\"Creating submission\"):\n",
    "        images = images.to('cuda')\n",
    "        outputs = model(images)\n",
    "        _, preds = torch.max(outputs, 1)\n",
    "        predictions.extend(preds.cpu().numpy())\n",
    "        indices.extend(idxs.cpu().numpy())\n",
    "\n",
    "    submission = pd.DataFrame({\n",
    "        \"index\": indices,\n",
    "        \"label\": [p for p in predictions]\n",
    "    }).sort_values(\"index\")\n",
    "    submission.to_csv(\"submission.csv\", index=False)\n",
    "    return submission"
   ]
  },
  {
   "cell_type": "markdown",
   "id": "2167d03d",
   "metadata": {},
   "source": [
    "**6. Запуск обучения с разными моделями**"
   ]
  },
  {
   "cell_type": "code",
   "execution_count": null,
   "id": "7a72b9d5",
   "metadata": {},
   "outputs": [
    {
     "name": "stderr",
     "output_type": "stream",
     "text": [
      "e:\\Anaconda\\envs\\pytorch_gpu\\lib\\site-packages\\torchvision\\models\\_utils.py:208: UserWarning: The parameter 'pretrained' is deprecated since 0.13 and may be removed in the future, please use 'weights' instead.\n",
      "  warnings.warn(\n",
      "e:\\Anaconda\\envs\\pytorch_gpu\\lib\\site-packages\\torchvision\\models\\_utils.py:223: UserWarning: Arguments other than a weight enum or `None` for 'weights' are deprecated since 0.13 and may be removed in the future. The current behavior is equivalent to passing `weights=MobileNet_V2_Weights.IMAGENET1K_V1`. You can also use `weights=MobileNet_V2_Weights.DEFAULT` to get the most up-to-date weights.\n",
      "  warnings.warn(msg)\n",
      "e:\\Anaconda\\envs\\pytorch_gpu\\lib\\site-packages\\torchvision\\models\\_utils.py:223: UserWarning: Arguments other than a weight enum or `None` for 'weights' are deprecated since 0.13 and may be removed in the future. The current behavior is equivalent to passing `weights=EfficientNet_B0_Weights.IMAGENET1K_V1`. You can also use `weights=EfficientNet_B0_Weights.DEFAULT` to get the most up-to-date weights.\n",
      "  warnings.warn(msg)\n"
     ]
    },
    {
     "name": "stdout",
     "output_type": "stream",
     "text": [
      "\n",
      "Обучаем модель: SimpleCNN\n"
     ]
    },
    {
     "name": "stderr",
     "output_type": "stream",
     "text": [
      "Train Epoch 1: 100%|██████████| 140/140 [00:45<00:00,  3.08it/s]\n",
      "Validation: 100%|██████████| 16/16 [00:04<00:00,  3.83it/s]\n"
     ]
    },
    {
     "name": "stdout",
     "output_type": "stream",
     "text": [
      "Epoch 1: Train Acc=0.0206, Val Acc=0.0081\n"
     ]
    },
    {
     "name": "stderr",
     "output_type": "stream",
     "text": [
      "Train Epoch 2: 100%|██████████| 140/140 [00:21<00:00,  6.58it/s]\n",
      "Validation: 100%|██████████| 16/16 [00:01<00:00,  8.46it/s]\n"
     ]
    },
    {
     "name": "stdout",
     "output_type": "stream",
     "text": [
      "Epoch 2: Train Acc=0.0249, Val Acc=0.0302\n"
     ]
    },
    {
     "name": "stderr",
     "output_type": "stream",
     "text": [
      "Train Epoch 3: 100%|██████████| 140/140 [00:21<00:00,  6.50it/s]\n",
      "Validation: 100%|██████████| 16/16 [00:01<00:00,  8.61it/s]\n"
     ]
    },
    {
     "name": "stdout",
     "output_type": "stream",
     "text": [
      "Epoch 3: Train Acc=0.0235, Val Acc=0.0222\n"
     ]
    },
    {
     "name": "stderr",
     "output_type": "stream",
     "text": [
      "Train Epoch 4: 100%|██████████| 140/140 [00:21<00:00,  6.63it/s]\n",
      "Validation: 100%|██████████| 16/16 [00:01<00:00,  8.67it/s]\n"
     ]
    },
    {
     "name": "stdout",
     "output_type": "stream",
     "text": [
      "Epoch 4: Train Acc=0.0276, Val Acc=0.0222\n"
     ]
    },
    {
     "name": "stderr",
     "output_type": "stream",
     "text": [
      "Train Epoch 5: 100%|██████████| 140/140 [00:21<00:00,  6.58it/s]\n",
      "Validation: 100%|██████████| 16/16 [00:01<00:00,  8.57it/s]\n"
     ]
    },
    {
     "name": "stdout",
     "output_type": "stream",
     "text": [
      "Epoch 5: Train Acc=0.0274, Val Acc=0.0222\n"
     ]
    },
    {
     "name": "stderr",
     "output_type": "stream",
     "text": [
      "Train Epoch 6: 100%|██████████| 140/140 [00:21<00:00,  6.56it/s]\n",
      "Validation: 100%|██████████| 16/16 [00:01<00:00,  8.63it/s]\n"
     ]
    },
    {
     "name": "stdout",
     "output_type": "stream",
     "text": [
      "Epoch 6: Train Acc=0.0276, Val Acc=0.0222\n"
     ]
    },
    {
     "name": "stderr",
     "output_type": "stream",
     "text": [
      "Train Epoch 7: 100%|██████████| 140/140 [00:21<00:00,  6.61it/s]\n",
      "Validation: 100%|██████████| 16/16 [00:01<00:00,  8.63it/s]\n"
     ]
    },
    {
     "name": "stdout",
     "output_type": "stream",
     "text": [
      "Epoch 7: Train Acc=0.0475, Val Acc=0.1149\n"
     ]
    },
    {
     "name": "stderr",
     "output_type": "stream",
     "text": [
      "Train Epoch 8: 100%|██████████| 140/140 [00:21<00:00,  6.52it/s]\n",
      "Validation: 100%|██████████| 16/16 [00:01<00:00,  8.66it/s]\n"
     ]
    },
    {
     "name": "stdout",
     "output_type": "stream",
     "text": [
      "Epoch 8: Train Acc=0.1193, Val Acc=0.1452\n"
     ]
    },
    {
     "name": "stderr",
     "output_type": "stream",
     "text": [
      "Train Epoch 9: 100%|██████████| 140/140 [00:21<00:00,  6.59it/s]\n",
      "Validation: 100%|██████████| 16/16 [00:01<00:00,  8.46it/s]\n"
     ]
    },
    {
     "name": "stdout",
     "output_type": "stream",
     "text": [
      "Epoch 9: Train Acc=0.1675, Val Acc=0.2198\n"
     ]
    },
    {
     "name": "stderr",
     "output_type": "stream",
     "text": [
      "Train Epoch 10: 100%|██████████| 140/140 [00:21<00:00,  6.55it/s]\n",
      "Validation: 100%|██████████| 16/16 [00:01<00:00,  8.65it/s]\n"
     ]
    },
    {
     "name": "stdout",
     "output_type": "stream",
     "text": [
      "Epoch 10: Train Acc=0.2162, Val Acc=0.2641\n"
     ]
    },
    {
     "name": "stderr",
     "output_type": "stream",
     "text": [
      "Creating submission: 100%|██████████| 8/8 [00:01<00:00,  5.53it/s]\n"
     ]
    },
    {
     "name": "stdout",
     "output_type": "stream",
     "text": [
      "\n",
      "Обучаем модель: MobileNetV2\n"
     ]
    },
    {
     "name": "stderr",
     "output_type": "stream",
     "text": [
      "Train Epoch 1: 100%|██████████| 140/140 [00:23<00:00,  5.93it/s]\n",
      "Validation: 100%|██████████| 16/16 [00:02<00:00,  8.00it/s]\n"
     ]
    },
    {
     "name": "stdout",
     "output_type": "stream",
     "text": [
      "Epoch 1: Train Acc=0.6889, Val Acc=0.8024\n"
     ]
    },
    {
     "name": "stderr",
     "output_type": "stream",
     "text": [
      "Train Epoch 2: 100%|██████████| 140/140 [00:23<00:00,  5.94it/s]\n",
      "Validation: 100%|██████████| 16/16 [00:02<00:00,  7.99it/s]\n"
     ]
    },
    {
     "name": "stdout",
     "output_type": "stream",
     "text": [
      "Epoch 2: Train Acc=0.8520, Val Acc=0.8569\n"
     ]
    },
    {
     "name": "stderr",
     "output_type": "stream",
     "text": [
      "Train Epoch 3: 100%|██████████| 140/140 [00:23<00:00,  5.93it/s]\n",
      "Validation: 100%|██████████| 16/16 [00:01<00:00,  8.07it/s]\n"
     ]
    },
    {
     "name": "stdout",
     "output_type": "stream",
     "text": [
      "Epoch 3: Train Acc=0.8672, Val Acc=0.8790\n"
     ]
    },
    {
     "name": "stderr",
     "output_type": "stream",
     "text": [
      "Train Epoch 4: 100%|██████████| 140/140 [00:23<00:00,  5.90it/s]\n",
      "Validation: 100%|██████████| 16/16 [00:02<00:00,  7.79it/s]\n"
     ]
    },
    {
     "name": "stdout",
     "output_type": "stream",
     "text": [
      "Epoch 4: Train Acc=0.9018, Val Acc=0.8448\n"
     ]
    },
    {
     "name": "stderr",
     "output_type": "stream",
     "text": [
      "Train Epoch 5: 100%|██████████| 140/140 [00:23<00:00,  5.87it/s]\n",
      "Validation: 100%|██████████| 16/16 [00:01<00:00,  8.27it/s]\n"
     ]
    },
    {
     "name": "stdout",
     "output_type": "stream",
     "text": [
      "Epoch 5: Train Acc=0.8892, Val Acc=0.8327\n"
     ]
    },
    {
     "name": "stderr",
     "output_type": "stream",
     "text": [
      "Train Epoch 6: 100%|██████████| 140/140 [00:23<00:00,  5.95it/s]\n",
      "Validation: 100%|██████████| 16/16 [00:01<00:00,  8.18it/s]\n"
     ]
    },
    {
     "name": "stdout",
     "output_type": "stream",
     "text": [
      "Epoch 6: Train Acc=0.9128, Val Acc=0.9093\n"
     ]
    },
    {
     "name": "stderr",
     "output_type": "stream",
     "text": [
      "Train Epoch 7: 100%|██████████| 140/140 [00:23<00:00,  5.93it/s]\n",
      "Validation: 100%|██████████| 16/16 [00:01<00:00,  8.25it/s]\n"
     ]
    },
    {
     "name": "stdout",
     "output_type": "stream",
     "text": [
      "Epoch 7: Train Acc=0.9211, Val Acc=0.8911\n"
     ]
    },
    {
     "name": "stderr",
     "output_type": "stream",
     "text": [
      "Train Epoch 8: 100%|██████████| 140/140 [00:23<00:00,  5.95it/s]\n",
      "Validation: 100%|██████████| 16/16 [00:01<00:00,  8.27it/s]\n"
     ]
    },
    {
     "name": "stdout",
     "output_type": "stream",
     "text": [
      "Epoch 8: Train Acc=0.9222, Val Acc=0.8750\n"
     ]
    },
    {
     "name": "stderr",
     "output_type": "stream",
     "text": [
      "Train Epoch 9: 100%|██████████| 140/140 [00:23<00:00,  5.96it/s]\n",
      "Validation: 100%|██████████| 16/16 [00:01<00:00,  8.22it/s]\n"
     ]
    },
    {
     "name": "stdout",
     "output_type": "stream",
     "text": [
      "Epoch 9: Train Acc=0.9267, Val Acc=0.8750\n"
     ]
    },
    {
     "name": "stderr",
     "output_type": "stream",
     "text": [
      "Train Epoch 10: 100%|██████████| 140/140 [00:23<00:00,  5.96it/s]\n",
      "Validation: 100%|██████████| 16/16 [00:01<00:00,  8.30it/s]\n"
     ]
    },
    {
     "name": "stdout",
     "output_type": "stream",
     "text": [
      "Epoch 10: Train Acc=0.9327, Val Acc=0.8851\n"
     ]
    },
    {
     "name": "stderr",
     "output_type": "stream",
     "text": [
      "Creating submission: 100%|██████████| 8/8 [00:00<00:00, 15.10it/s]\n"
     ]
    },
    {
     "name": "stdout",
     "output_type": "stream",
     "text": [
      "\n",
      "Обучаем модель: EfficientNetB0\n"
     ]
    },
    {
     "name": "stderr",
     "output_type": "stream",
     "text": [
      "Train Epoch 1: 100%|██████████| 140/140 [00:26<00:00,  5.33it/s]\n",
      "Validation: 100%|██████████| 16/16 [00:02<00:00,  7.60it/s]\n"
     ]
    },
    {
     "name": "stdout",
     "output_type": "stream",
     "text": [
      "Epoch 1: Train Acc=0.7511, Val Acc=0.8690\n"
     ]
    },
    {
     "name": "stderr",
     "output_type": "stream",
     "text": [
      "Train Epoch 2: 100%|██████████| 140/140 [00:26<00:00,  5.35it/s]\n",
      "Validation: 100%|██████████| 16/16 [00:02<00:00,  7.85it/s]\n"
     ]
    },
    {
     "name": "stdout",
     "output_type": "stream",
     "text": [
      "Epoch 2: Train Acc=0.8935, Val Acc=0.9012\n"
     ]
    },
    {
     "name": "stderr",
     "output_type": "stream",
     "text": [
      "Train Epoch 3: 100%|██████████| 140/140 [00:26<00:00,  5.34it/s]\n",
      "Validation: 100%|██████████| 16/16 [00:02<00:00,  7.90it/s]\n"
     ]
    },
    {
     "name": "stdout",
     "output_type": "stream",
     "text": [
      "Epoch 3: Train Acc=0.9300, Val Acc=0.9153\n"
     ]
    },
    {
     "name": "stderr",
     "output_type": "stream",
     "text": [
      "Train Epoch 4: 100%|██████████| 140/140 [00:26<00:00,  5.35it/s]\n",
      "Validation: 100%|██████████| 16/16 [00:02<00:00,  7.90it/s]\n"
     ]
    },
    {
     "name": "stdout",
     "output_type": "stream",
     "text": [
      "Epoch 4: Train Acc=0.9343, Val Acc=0.9173\n"
     ]
    },
    {
     "name": "stderr",
     "output_type": "stream",
     "text": [
      "Train Epoch 5: 100%|██████████| 140/140 [00:26<00:00,  5.35it/s]\n",
      "Validation: 100%|██████████| 16/16 [00:02<00:00,  7.92it/s]\n"
     ]
    },
    {
     "name": "stdout",
     "output_type": "stream",
     "text": [
      "Epoch 5: Train Acc=0.9448, Val Acc=0.8972\n"
     ]
    },
    {
     "name": "stderr",
     "output_type": "stream",
     "text": [
      "Train Epoch 6: 100%|██████████| 140/140 [00:26<00:00,  5.34it/s]\n",
      "Validation: 100%|██████████| 16/16 [00:02<00:00,  7.97it/s]\n"
     ]
    },
    {
     "name": "stdout",
     "output_type": "stream",
     "text": [
      "Epoch 6: Train Acc=0.9545, Val Acc=0.9153\n"
     ]
    },
    {
     "name": "stderr",
     "output_type": "stream",
     "text": [
      "Train Epoch 7: 100%|██████████| 140/140 [00:26<00:00,  5.35it/s]\n",
      "Validation: 100%|██████████| 16/16 [00:02<00:00,  7.90it/s]\n"
     ]
    },
    {
     "name": "stdout",
     "output_type": "stream",
     "text": [
      "Epoch 7: Train Acc=0.9578, Val Acc=0.9093\n"
     ]
    },
    {
     "name": "stderr",
     "output_type": "stream",
     "text": [
      "Train Epoch 8: 100%|██████████| 140/140 [00:26<00:00,  5.35it/s]\n",
      "Validation: 100%|██████████| 16/16 [00:02<00:00,  7.90it/s]\n"
     ]
    },
    {
     "name": "stdout",
     "output_type": "stream",
     "text": [
      "Epoch 8: Train Acc=0.9603, Val Acc=0.8952\n"
     ]
    },
    {
     "name": "stderr",
     "output_type": "stream",
     "text": [
      "Train Epoch 9: 100%|██████████| 140/140 [00:26<00:00,  5.34it/s]\n",
      "Validation: 100%|██████████| 16/16 [00:02<00:00,  7.91it/s]\n"
     ]
    },
    {
     "name": "stdout",
     "output_type": "stream",
     "text": [
      "Epoch 9: Train Acc=0.9560, Val Acc=0.9456\n"
     ]
    },
    {
     "name": "stderr",
     "output_type": "stream",
     "text": [
      "Train Epoch 10: 100%|██████████| 140/140 [00:26<00:00,  5.34it/s]\n",
      "Validation: 100%|██████████| 16/16 [00:02<00:00,  7.92it/s]\n"
     ]
    },
    {
     "name": "stdout",
     "output_type": "stream",
     "text": [
      "Epoch 10: Train Acc=0.9650, Val Acc=0.9173\n"
     ]
    },
    {
     "name": "stderr",
     "output_type": "stream",
     "text": [
      "Creating submission: 100%|██████████| 8/8 [00:00<00:00, 14.62it/s]"
     ]
    },
    {
     "name": "stdout",
     "output_type": "stream",
     "text": [
      "\n",
      "Лучшая модель: EfficientNetB0 с точностью 0.9455645161290323\n"
     ]
    },
    {
     "name": "stderr",
     "output_type": "stream",
     "text": [
      "\n"
     ]
    }
   ],
   "source": [
    "# Список моделей\n",
    "models_to_train = {\n",
    "    \"SimpleCNN\": SimpleCNN(classes_cnt),\n",
    "    \"MobileNetV2\": build_mobilenet(classes_cnt),\n",
    "    \"EfficientNetB0\": build_efficientnet(classes_cnt)\n",
    "}\n",
    "\n",
    "model_scores = {}\n",
    "model_submissions = {}\n",
    "\n",
    "for model_name, model in models_to_train.items():\n",
    "    print(f\"\\nОбучаем модель: {model_name}\")\n",
    "    trained_model, val_acc = train_model(model, train_loader, val_loader, epochs=10)\n",
    "    model_scores[model_name] = val_acc\n",
    "    submission = create_submission(trained_model, test_loader, train_full)\n",
    "    model_submissions[model_name] = submission\n",
    "    submission.to_csv(f\"submission_{model_name}.csv\", index=False)\n",
    "\n",
    "best_model_name = max(model_scores, key=model_scores.get)\n",
    "best_submission = model_submissions[best_model_name]\n",
    "\n",
    "print(f\"\\nЛучшая модель: {best_model_name} с точностью {model_scores[best_model_name]}\")"
   ]
  },
  {
   "cell_type": "markdown",
   "id": "e54643d4",
   "metadata": {},
   "source": [
    "**Лучший результат в каком-то из прогонов был такой**"
   ]
  },
  {
   "attachments": {
    "Снимок экрана 2025-07-06 194232.png": {
     "image/png": "[encoded data removed]"
    }
   },
   "cell_type": "markdown",
   "id": "9b4cf678",
   "metadata": {},
   "source": [
    "![Снимок экрана 2025-07-06 194232.png](<attachment:Снимок экрана 2025-07-06 194232.png>)"
   ]
  }
 ],
 "metadata": {
  "kernelspec": {
   "display_name": "pytorch_gpu",
   "language": "python",
   "name": "python3"
  },
  "language_info": {
   "codemirror_mode": {
    "name": "ipython",
    "version": 3
   },
   "file_extension": ".py",
   "mimetype": "text/x-python",
   "name": "python",
   "nbconvert_exporter": "python",
   "pygments_lexer": "ipython3",
   "version": "3.9.23"
  }
 },
 "nbformat": 4,
 "nbformat_minor": 5
}
