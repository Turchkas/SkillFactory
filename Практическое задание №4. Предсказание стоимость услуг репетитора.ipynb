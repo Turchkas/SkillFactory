{
 "cells": [
  {
   "cell_type": "code",
   "execution_count": 20,
   "metadata": {},
   "outputs": [
    {
     "name": "stdout",
     "output_type": "stream",
     "text": [
      "Downloading tutors-lessons-prices-prediction.zip to .\\tutors-lessons-prices-prediction\n"
     ]
    },
    {
     "name": "stderr",
     "output_type": "stream",
     "text": [
      "100%|██████████| 2.56M/2.56M [00:00<00:00, 3.45MB/s]"
     ]
    },
    {
     "name": "stdout",
     "output_type": "stream",
     "text": [
      "\n",
      "Extracting archive .\\tutors-lessons-prices-prediction/tutors-lessons-prices-prediction.zip to .\\tutors-lessons-prices-prediction\n"
     ]
    },
    {
     "name": "stderr",
     "output_type": "stream",
     "text": [
      "\n"
     ]
    }
   ],
   "source": [
    "import opendatasets as od\n",
    "od.download('https://www.kaggle.com/competitions/tutors-lessons-prices-prediction')"
   ]
  },
  {
   "cell_type": "code",
   "execution_count": 1,
   "metadata": {},
   "outputs": [],
   "source": [
    "import pandas as pd\n",
    "pd.set_option('display.max_columns', None)\n",
    "pd.set_option('display.max_colwidth', None)\n",
    "train = pd.read_excel('./tutors-lessons-prices-prediction/train.xlsx').drop(columns='Unnamed: 0')\n",
    "test = pd.read_excel('./tutors-lessons-prices-prediction/test.xlsx').drop(columns='Unnamed: 0')\n",
    "sample_submit = pd.read_csv('./tutors-lessons-prices-prediction/sample_submit.csv')"
   ]
  },
  {
   "cell_type": "code",
   "execution_count": 2,
   "metadata": {},
   "outputs": [
    {
     "data": {
      "text/html": [
       "<div>\n",
       "<style scoped>\n",
       "    .dataframe tbody tr th:only-of-type {\n",
       "        vertical-align: middle;\n",
       "    }\n",
       "\n",
       "    .dataframe tbody tr th {\n",
       "        vertical-align: top;\n",
       "    }\n",
       "\n",
       "    .dataframe thead th {\n",
       "        text-align: right;\n",
       "    }\n",
       "</style>\n",
       "<table border=\"1\" class=\"dataframe\">\n",
       "  <thead>\n",
       "    <tr style=\"text-align: right;\">\n",
       "      <th></th>\n",
       "      <th>предмет</th>\n",
       "      <th>ФИО</th>\n",
       "      <th>tutor_head_tags</th>\n",
       "      <th>tutor_rating</th>\n",
       "      <th>tutor_reviews</th>\n",
       "      <th>description</th>\n",
       "      <th>experience_desc</th>\n",
       "      <th>Education_1</th>\n",
       "      <th>Desc_Education_1</th>\n",
       "      <th>Education_2</th>\n",
       "      <th>Desc_Education_2</th>\n",
       "      <th>Education_3</th>\n",
       "      <th>Desc_Education_3</th>\n",
       "      <th>Education_4</th>\n",
       "      <th>Desc_Education_4</th>\n",
       "      <th>Ученая степень 1</th>\n",
       "      <th>Ученое звание 1</th>\n",
       "      <th>status</th>\n",
       "      <th>experience</th>\n",
       "      <th>Desc_Education_5</th>\n",
       "      <th>Desc_Education_6</th>\n",
       "      <th>Education_5</th>\n",
       "      <th>Education_6</th>\n",
       "      <th>Ученая степень 2</th>\n",
       "      <th>Ученое звание 2</th>\n",
       "      <th>categories</th>\n",
       "      <th>mean_price</th>\n",
       "    </tr>\n",
       "  </thead>\n",
       "  <tbody>\n",
       "    <tr>\n",
       "      <th>0</th>\n",
       "      <td>matematika</td>\n",
       "      <td>Репетитор по математике  Емельянова Марина Владиславовна - фотография</td>\n",
       "      <td>['Школьная программа', 'Подготовка к ЕГЭ', 'Подготовка к ОГЭ']</td>\n",
       "      <td>5.0</td>\n",
       "      <td>2</td>\n",
       "      <td>Репетитор не предоставил о себе дополнительных сведений</td>\n",
       "      <td>NaN</td>\n",
       "      <td>Томский государственный университет им. В.В. Куйбышева</td>\n",
       "      <td>Год окончания: 1990, Факультет: механико-математический факультет, Специальность: прикладная математика</td>\n",
       "      <td>NaN</td>\n",
       "      <td>NaN</td>\n",
       "      <td>NaN</td>\n",
       "      <td>NaN</td>\n",
       "      <td>NaN</td>\n",
       "      <td>NaN</td>\n",
       "      <td>NaN</td>\n",
       "      <td>NaN</td>\n",
       "      <td>Университетский преподаватель</td>\n",
       "      <td>31 год</td>\n",
       "      <td>NaN</td>\n",
       "      <td>NaN</td>\n",
       "      <td>NaN</td>\n",
       "      <td>NaN</td>\n",
       "      <td>NaN</td>\n",
       "      <td>NaN</td>\n",
       "      <td>['Школьники с 5 по 9 класс', 'Школьники с 10 по 11 класс, студенты колледжей и техникумов, абитуриенты']</td>\n",
       "      <td>16.666667</td>\n",
       "    </tr>\n",
       "    <tr>\n",
       "      <th>1</th>\n",
       "      <td>matematika</td>\n",
       "      <td>Репетитор по математике  Назарова Анастасия Андреевна - фотография</td>\n",
       "      <td>['Школьная программа', 'Подготовка к ЕГЭ', 'Подготовка к ОГЭ']</td>\n",
       "      <td>4.0</td>\n",
       "      <td>7</td>\n",
       "      <td>Репетитор не предоставил о себе дополнительных сведений</td>\n",
       "      <td>NaN</td>\n",
       "      <td>Вологодский государственный педагогический университет</td>\n",
       "      <td>Год окончания: 2017, Факультет: факультет прикладной математики и информатики, Специальность: прикладная математика и информатика</td>\n",
       "      <td>Череповецкий государственный университет</td>\n",
       "      <td>Год окончания: 2023, Факультет: институт информационных технологий, Специальность: преподаватель математики и информатики</td>\n",
       "      <td>NaN</td>\n",
       "      <td>NaN</td>\n",
       "      <td>NaN</td>\n",
       "      <td>NaN</td>\n",
       "      <td>NaN</td>\n",
       "      <td>NaN</td>\n",
       "      <td>Школьный преподаватель</td>\n",
       "      <td>8 лет</td>\n",
       "      <td>NaN</td>\n",
       "      <td>NaN</td>\n",
       "      <td>NaN</td>\n",
       "      <td>NaN</td>\n",
       "      <td>NaN</td>\n",
       "      <td>NaN</td>\n",
       "      <td>['Школьники с 5 по 9 класс', 'Школьники с 10 по 11 класс, студенты колледжей и техникумов, абитуриенты']</td>\n",
       "      <td>11.666667</td>\n",
       "    </tr>\n",
       "  </tbody>\n",
       "</table>\n",
       "</div>"
      ],
      "text/plain": [
       "      предмет  \\\n",
       "0  matematika   \n",
       "1  matematika   \n",
       "\n",
       "                                                                     ФИО  \\\n",
       "0  Репетитор по математике  Емельянова Марина Владиславовна - фотография   \n",
       "1     Репетитор по математике  Назарова Анастасия Андреевна - фотография   \n",
       "\n",
       "                                                  tutor_head_tags  \\\n",
       "0  ['Школьная программа', 'Подготовка к ЕГЭ', 'Подготовка к ОГЭ']   \n",
       "1  ['Школьная программа', 'Подготовка к ЕГЭ', 'Подготовка к ОГЭ']   \n",
       "\n",
       "   tutor_rating  tutor_reviews  \\\n",
       "0           5.0              2   \n",
       "1           4.0              7   \n",
       "\n",
       "                                                           description  \\\n",
       "0          Репетитор не предоставил о себе дополнительных сведений       \n",
       "1          Репетитор не предоставил о себе дополнительных сведений       \n",
       "\n",
       "  experience_desc                                               Education_1  \\\n",
       "0             NaN   Томский государственный университет им. В.В. Куйбышева    \n",
       "1             NaN   Вологодский государственный педагогический университет    \n",
       "\n",
       "                                                                                                                      Desc_Education_1  \\\n",
       "0                             Год окончания: 1990, Факультет: механико-математический факультет, Специальность: прикладная математика    \n",
       "1   Год окончания: 2017, Факультет: факультет прикладной математики и информатики, Специальность: прикладная математика и информатика    \n",
       "\n",
       "                                  Education_2  \\\n",
       "0                                         NaN   \n",
       "1   Череповецкий государственный университет    \n",
       "\n",
       "                                                                                                              Desc_Education_2  \\\n",
       "0                                                                                                                          NaN   \n",
       "1   Год окончания: 2023, Факультет: институт информационных технологий, Специальность: преподаватель математики и информатики    \n",
       "\n",
       "  Education_3 Desc_Education_3 Education_4 Desc_Education_4 Ученая степень 1  \\\n",
       "0         NaN              NaN         NaN              NaN              NaN   \n",
       "1         NaN              NaN         NaN              NaN              NaN   \n",
       "\n",
       "  Ученое звание 1                          status experience Desc_Education_5  \\\n",
       "0             NaN   Университетский преподаватель    31 год               NaN   \n",
       "1             NaN          Школьный преподаватель     8 лет               NaN   \n",
       "\n",
       "  Desc_Education_6 Education_5 Education_6 Ученая степень 2 Ученое звание 2  \\\n",
       "0              NaN         NaN         NaN              NaN             NaN   \n",
       "1              NaN         NaN         NaN              NaN             NaN   \n",
       "\n",
       "                                                                                                 categories  \\\n",
       "0  ['Школьники с 5 по 9 класс', 'Школьники с 10 по 11 класс, студенты колледжей и техникумов, абитуриенты']   \n",
       "1  ['Школьники с 5 по 9 класс', 'Школьники с 10 по 11 класс, студенты колледжей и техникумов, абитуриенты']   \n",
       "\n",
       "   mean_price  \n",
       "0   16.666667  \n",
       "1   11.666667  "
      ]
     },
     "execution_count": 2,
     "metadata": {},
     "output_type": "execute_result"
    }
   ],
   "source": [
    "train.head(2)"
   ]
  },
  {
   "cell_type": "code",
   "execution_count": 3,
   "metadata": {},
   "outputs": [
    {
     "name": "stdout",
     "output_type": "stream",
     "text": [
      "<class 'pandas.core.frame.DataFrame'>\n",
      "RangeIndex: 4548 entries, 0 to 4547\n",
      "Data columns (total 27 columns):\n",
      " #   Column            Non-Null Count  Dtype  \n",
      "---  ------            --------------  -----  \n",
      " 0   предмет           4548 non-null   object \n",
      " 1   ФИО               4548 non-null   object \n",
      " 2   tutor_head_tags   4548 non-null   object \n",
      " 3   tutor_rating      3959 non-null   float64\n",
      " 4   tutor_reviews     4548 non-null   int64  \n",
      " 5   description       4547 non-null   object \n",
      " 6   experience_desc   2171 non-null   object \n",
      " 7   Education_1       4548 non-null   object \n",
      " 8   Desc_Education_1  4472 non-null   object \n",
      " 9   Education_2       781 non-null    object \n",
      " 10  Desc_Education_2  777 non-null    object \n",
      " 11  Education_3       106 non-null    object \n",
      " 12  Desc_Education_3  105 non-null    object \n",
      " 13  Education_4       16 non-null     object \n",
      " 14  Desc_Education_4  16 non-null     object \n",
      " 15  Ученая степень 1  76 non-null     object \n",
      " 16  Ученое звание 1   35 non-null     object \n",
      " 17  status            4535 non-null   object \n",
      " 18  experience        4523 non-null   object \n",
      " 19  Desc_Education_5  3 non-null      object \n",
      " 20  Desc_Education_6  1 non-null      object \n",
      " 21  Education_5       3 non-null      object \n",
      " 22  Education_6       1 non-null      object \n",
      " 23  Ученая степень 2  1 non-null      object \n",
      " 24  Ученое звание 2   1 non-null      object \n",
      " 25  categories        4548 non-null   object \n",
      " 26  mean_price        4548 non-null   float64\n",
      "dtypes: float64(2), int64(1), object(24)\n",
      "memory usage: 959.5+ KB\n"
     ]
    }
   ],
   "source": [
    "train.info()"
   ]
  },
  {
   "cell_type": "code",
   "execution_count": 4,
   "metadata": {},
   "outputs": [],
   "source": [
    "from sklearn.model_selection import train_test_split"
   ]
  },
  {
   "cell_type": "code",
   "execution_count": 5,
   "metadata": {},
   "outputs": [],
   "source": [
    "X_train, X_valid, y_train, y_valid = train_test_split(train.drop(columns=['mean_price']), train['mean_price'], test_size=0.2, random_state=42)"
   ]
  },
  {
   "cell_type": "markdown",
   "metadata": {},
   "source": [
    "**Некоторые клиенты предпочитают репетитора определенного пола, сделаем колонку с полом, а ФИО удалим**"
   ]
  },
  {
   "cell_type": "code",
   "execution_count": 6,
   "metadata": {},
   "outputs": [],
   "source": [
    "X_train['sex'] = X_train['ФИО'].apply(lambda x: 1 if 'ич' in x else 0)\n",
    "X_train.drop(columns=['ФИО'], inplace=True)\n",
    "#Т.к это профиру, то большиство людей русские с отчеством, а отчество у мужчин оканчивается на ич или евич. Будут отдельные выбросы мб у людей без отчества или нерусских, надо смотреть отдельно"
   ]
  },
  {
   "cell_type": "markdown",
   "metadata": {},
   "source": [
    "**Где нет рейтинга у репетитора, поставим 0**"
   ]
  },
  {
   "cell_type": "code",
   "execution_count": 7,
   "metadata": {},
   "outputs": [],
   "source": [
    "X_train['tutor_rating'] = X_train['tutor_rating'].fillna(0).astype('float')"
   ]
  },
  {
   "cell_type": "markdown",
   "metadata": {},
   "source": [
    "**Второго ученого звания нет ни у кого, можно удалить колонки**"
   ]
  },
  {
   "cell_type": "code",
   "execution_count": 8,
   "metadata": {},
   "outputs": [
    {
     "data": {
      "text/plain": [
       "0"
      ]
     },
     "execution_count": 8,
     "metadata": {},
     "output_type": "execute_result"
    }
   ],
   "source": [
    "X_train[X_train['Ученое звание 2'].isna()==False]['предмет'].count()"
   ]
  },
  {
   "cell_type": "code",
   "execution_count": 9,
   "metadata": {},
   "outputs": [],
   "source": [
    "X_train.drop(columns=['Ученое звание 2', 'Ученая степень 2'], inplace=True)"
   ]
  },
  {
   "cell_type": "markdown",
   "metadata": {},
   "source": [
    "**Приведем в единый вид колонки Ученая степень 1 и Ученое звание 1**"
   ]
  },
  {
   "cell_type": "code",
   "execution_count": 10,
   "metadata": {},
   "outputs": [
    {
     "data": {
      "text/plain": [
       "array([nan, ' кандидат технических наук ', ' Кандидат технических наук ',\n",
       "       ' Кандидат физико-математических наук ',\n",
       "       ' кандидат физико-математических наук ',\n",
       "       ' Кандидат педагогических наук ', ' Доктор технических наук ',\n",
       "       ' Доктор физико-математических наук ',\n",
       "       ' доктор физико-математических наук ',\n",
       "       ' кандидат биологических наук ', ' Кандидат химических наук '],\n",
       "      dtype=object)"
      ]
     },
     "execution_count": 10,
     "metadata": {},
     "output_type": "execute_result"
    }
   ],
   "source": [
    "X_train['Ученая степень 1'].unique()"
   ]
  },
  {
   "cell_type": "code",
   "execution_count": 11,
   "metadata": {},
   "outputs": [
    {
     "data": {
      "text/plain": [
       "array([nan, ' доцент ', ' Доцент ', ' старший научный сотрудник ',\n",
       "       ' Старший научный сотрудник ', ' Профессор ', ' профессор '],\n",
       "      dtype=object)"
      ]
     },
     "execution_count": 11,
     "metadata": {},
     "output_type": "execute_result"
    }
   ],
   "source": [
    "X_train['Ученое звание 1'].unique()"
   ]
  },
  {
   "cell_type": "code",
   "execution_count": 12,
   "metadata": {},
   "outputs": [],
   "source": [
    "X_train['Ученая степень 1'] = X_train['Ученая степень 1'].fillna('отсутствует').apply(lambda x: x.lower().strip())\n",
    "X_train['Ученое звание 1'] = X_train['Ученое звание 1'].fillna('отсутствует').apply(lambda x: x.lower().strip())"
   ]
  },
  {
   "cell_type": "markdown",
   "metadata": {},
   "source": [
    "**Очень мало людей со степенями/званиями, и тем более они разные, модель вряд ли сможет корректно на таком кол-ве научиться, предлагаю перевести все в категорию есть/отсутсвует степень/звание**"
   ]
  },
  {
   "cell_type": "code",
   "execution_count": 13,
   "metadata": {},
   "outputs": [
    {
     "data": {
      "text/plain": [
       "Ученая степень 1\n",
       "отсутствует                            3580\n",
       "кандидат физико-математических наук      27\n",
       "кандидат технических наук                24\n",
       "кандидат педагогических наук              2\n",
       "доктор физико-математических наук         2\n",
       "доктор технических наук                   1\n",
       "кандидат биологических наук               1\n",
       "кандидат химических наук                  1\n",
       "Name: count, dtype: int64"
      ]
     },
     "execution_count": 13,
     "metadata": {},
     "output_type": "execute_result"
    }
   ],
   "source": [
    "X_train['Ученая степень 1'].value_counts()"
   ]
  },
  {
   "cell_type": "code",
   "execution_count": 14,
   "metadata": {},
   "outputs": [
    {
     "data": {
      "text/plain": [
       "Ученое звание 1\n",
       "отсутствует                  3613\n",
       "доцент                         15\n",
       "старший научный сотрудник       8\n",
       "профессор                       2\n",
       "Name: count, dtype: int64"
      ]
     },
     "execution_count": 14,
     "metadata": {},
     "output_type": "execute_result"
    }
   ],
   "source": [
    "X_train['Ученое звание 1'].value_counts()"
   ]
  },
  {
   "cell_type": "code",
   "execution_count": 15,
   "metadata": {},
   "outputs": [],
   "source": [
    "X_train['Ученая степень 1'] = X_train['Ученая степень 1'].apply(lambda x: 0 if x=='отсутствует' else 1)\n",
    "X_train['Ученое звание 1'] = X_train['Ученое звание 1'].apply(lambda x: 0 if x=='отсутствует' else 1)"
   ]
  },
  {
   "cell_type": "markdown",
   "metadata": {},
   "source": [
    "**В колонке с опытом переведем все в числа, удалим описание опыта и описание самого репетитора, т.к оно нам дополнительного ничего не скажет**"
   ]
  },
  {
   "cell_type": "code",
   "execution_count": 16,
   "metadata": {},
   "outputs": [],
   "source": [
    "X_train.drop(columns=['experience_desc', 'description'], inplace=True)"
   ]
  },
  {
   "cell_type": "code",
   "execution_count": 17,
   "metadata": {},
   "outputs": [
    {
     "data": {
      "text/plain": [
       "array([10,  4,  2, 12, 45,  6,  7,  5,  8, 38,  3,  9, 42, 13,  1, 19, 27,\n",
       "       29, 21,  0, 16, 15, 11, 37, 44, 28, 26, 40, 34, 20, 24, 14, 32, 18,\n",
       "       25, 17, 22, 33, 43, 31, 39, 41, 30, 36, 23, 51, 48, 50, 53, 47, 52,\n",
       "       35, 46, 55, 54, 68])"
      ]
     },
     "execution_count": 17,
     "metadata": {},
     "output_type": "execute_result"
    }
   ],
   "source": [
    "X_train['experience'] = X_train['experience'].fillna('0').apply(lambda x: float(x.strip().split(' ')[0])).astype(int)\n",
    "X_train['experience'].unique()"
   ]
  },
  {
   "cell_type": "markdown",
   "metadata": {},
   "source": [
    "**Вместо колонок с образованием введем колонку с кол-вом образования**"
   ]
  },
  {
   "cell_type": "code",
   "execution_count": 18,
   "metadata": {},
   "outputs": [],
   "source": [
    "X_train[\"Cnt_Education\"] = X_train[[\"Education_1\", \"Education_2\", \"Education_3\", \"Education_4\", \"Education_5\", \"Education_6\"]].notna().sum(axis=1)\n",
    "X_train.drop(columns=['Education_1', 'Education_2', 'Education_3', 'Education_4', 'Education_5', 'Education_6', 'Desc_Education_1', 'Desc_Education_2', 'Desc_Education_3', 'Desc_Education_4', 'Desc_Education_5', 'Desc_Education_6'], inplace=True)"
   ]
  },
  {
   "cell_type": "markdown",
   "metadata": {},
   "source": [
    "**Вместо колонки категории введем отдельные колонки 'школьники с 5 по 9 класс', 'школьники с 10 по 11 класс, 'студенты колледжей и техникумов', 'абитуриенты'**"
   ]
  },
  {
   "cell_type": "code",
   "execution_count": 19,
   "metadata": {},
   "outputs": [],
   "source": [
    "X_train['школьники с 5 по 9 класс'] = X_train['categories'].apply(lambda x: 1 if 'школьники с 5 по 9 класс' in x.lower() else 0)\n",
    "X_train['школьники с 10 по 11 класс'] = X_train['categories'].apply(lambda x: 1 if 'школьники с 10 по 11 класс' in x.lower() else 0)\n",
    "X_train['студенты колледжей и техникумов'] = X_train['categories'].apply(lambda x: 1 if 'студенты колледжей и техникумов' in x.lower() else 0)\n",
    "X_train['абитуриенты'] = X_train['categories'].apply(lambda x: 1 if 'абитуриенты' in x.lower() else 0)\n",
    "X_train.drop(columns=['categories'], inplace=True)"
   ]
  },
  {
   "cell_type": "markdown",
   "metadata": {},
   "source": [
    "**Вместо колонки tutor_head_tags введем отдельные колонки 'школьная программа', 'подготовка к ЕГЭ, 'подготовка к ОГЭ', 'подготовка к олимпиадам', 'вузовские предметы'**"
   ]
  },
  {
   "cell_type": "code",
   "execution_count": 20,
   "metadata": {},
   "outputs": [],
   "source": [
    "X_train['школьная программа'] = X_train['tutor_head_tags'].apply(lambda x: 1 if 'школьная программа' in x.lower() else 0)\n",
    "X_train['подготовка к ЕГЭ'] = X_train['tutor_head_tags'].apply(lambda x: 1 if 'подготовка к ЕГЭ' in x.lower() else 0)\n",
    "X_train['подготовка к ОГЭ'] = X_train['tutor_head_tags'].apply(lambda x: 1 if 'подготовка к ОГЭ' in x.lower() else 0)\n",
    "X_train['подготовка к олимпиадам'] = X_train['tutor_head_tags'].apply(lambda x: 1 if 'подготовка к олимпиадам' in x.lower() else 0)\n",
    "X_train['вузовские предметы'] = X_train['tutor_head_tags'].apply(lambda x: 1 if len(x) > 4 else 0)\n",
    "X_train.drop(columns=['tutor_head_tags'], inplace=True)"
   ]
  },
  {
   "cell_type": "markdown",
   "metadata": {},
   "source": [
    "**Вместо колонки status сделаем колонки 'частный преподаватель', 'школьный преподаватель', 'университетский преподаватель'**"
   ]
  },
  {
   "cell_type": "code",
   "execution_count": 21,
   "metadata": {},
   "outputs": [],
   "source": [
    "X_train['частный преподаватель'] = X_train['status'].fillna('частный преподаватель').apply(lambda x: 1 if ('частный преподаватель' in x.lower()  or 'студент' in x.lower() or 'аспирант' in x.lower()) else 0)\n",
    "X_train['школьный преподаватель'] = X_train['status'].fillna('частный преподаватель').apply(lambda x: 1 if 'школьный преподаватель' in x.lower() else 0)\n",
    "X_train['университетский преподаватель'] = X_train['status'].fillna('частный преподаватель').apply(lambda x: 1 if 'университетский преподаватель' in x.lower() else 0)\n",
    "X_train.drop(columns=['status'], inplace=True)"
   ]
  },
  {
   "cell_type": "code",
   "execution_count": 22,
   "metadata": {},
   "outputs": [
    {
     "data": {
      "text/html": [
       "<div>\n",
       "<style scoped>\n",
       "    .dataframe tbody tr th:only-of-type {\n",
       "        vertical-align: middle;\n",
       "    }\n",
       "\n",
       "    .dataframe tbody tr th {\n",
       "        vertical-align: top;\n",
       "    }\n",
       "\n",
       "    .dataframe thead th {\n",
       "        text-align: right;\n",
       "    }\n",
       "</style>\n",
       "<table border=\"1\" class=\"dataframe\">\n",
       "  <thead>\n",
       "    <tr style=\"text-align: right;\">\n",
       "      <th></th>\n",
       "      <th>предмет</th>\n",
       "      <th>tutor_rating</th>\n",
       "      <th>tutor_reviews</th>\n",
       "      <th>Ученая степень 1</th>\n",
       "      <th>Ученое звание 1</th>\n",
       "      <th>experience</th>\n",
       "      <th>sex</th>\n",
       "      <th>Cnt_Education</th>\n",
       "      <th>школьники с 5 по 9 класс</th>\n",
       "      <th>школьники с 10 по 11 класс</th>\n",
       "      <th>студенты колледжей и техникумов</th>\n",
       "      <th>абитуриенты</th>\n",
       "      <th>школьная программа</th>\n",
       "      <th>подготовка к ЕГЭ</th>\n",
       "      <th>подготовка к ОГЭ</th>\n",
       "      <th>подготовка к олимпиадам</th>\n",
       "      <th>вузовские предметы</th>\n",
       "      <th>частный преподаватель</th>\n",
       "      <th>школьный преподаватель</th>\n",
       "      <th>университетский преподаватель</th>\n",
       "    </tr>\n",
       "  </thead>\n",
       "  <tbody>\n",
       "    <tr>\n",
       "      <th>540</th>\n",
       "      <td>1</td>\n",
       "      <td>5.0</td>\n",
       "      <td>1</td>\n",
       "      <td>0</td>\n",
       "      <td>0</td>\n",
       "      <td>10</td>\n",
       "      <td>0</td>\n",
       "      <td>1</td>\n",
       "      <td>1</td>\n",
       "      <td>1</td>\n",
       "      <td>1</td>\n",
       "      <td>1</td>\n",
       "      <td>1</td>\n",
       "      <td>0</td>\n",
       "      <td>0</td>\n",
       "      <td>0</td>\n",
       "      <td>1</td>\n",
       "      <td>1</td>\n",
       "      <td>0</td>\n",
       "      <td>0</td>\n",
       "    </tr>\n",
       "    <tr>\n",
       "      <th>3948</th>\n",
       "      <td>1</td>\n",
       "      <td>0.0</td>\n",
       "      <td>0</td>\n",
       "      <td>0</td>\n",
       "      <td>0</td>\n",
       "      <td>4</td>\n",
       "      <td>1</td>\n",
       "      <td>1</td>\n",
       "      <td>1</td>\n",
       "      <td>1</td>\n",
       "      <td>1</td>\n",
       "      <td>1</td>\n",
       "      <td>1</td>\n",
       "      <td>0</td>\n",
       "      <td>0</td>\n",
       "      <td>1</td>\n",
       "      <td>1</td>\n",
       "      <td>1</td>\n",
       "      <td>0</td>\n",
       "      <td>0</td>\n",
       "    </tr>\n",
       "    <tr>\n",
       "      <th>2098</th>\n",
       "      <td>1</td>\n",
       "      <td>0.0</td>\n",
       "      <td>0</td>\n",
       "      <td>0</td>\n",
       "      <td>0</td>\n",
       "      <td>4</td>\n",
       "      <td>0</td>\n",
       "      <td>1</td>\n",
       "      <td>1</td>\n",
       "      <td>1</td>\n",
       "      <td>1</td>\n",
       "      <td>1</td>\n",
       "      <td>1</td>\n",
       "      <td>0</td>\n",
       "      <td>0</td>\n",
       "      <td>0</td>\n",
       "      <td>1</td>\n",
       "      <td>1</td>\n",
       "      <td>0</td>\n",
       "      <td>0</td>\n",
       "    </tr>\n",
       "    <tr>\n",
       "      <th>3280</th>\n",
       "      <td>0</td>\n",
       "      <td>0.0</td>\n",
       "      <td>0</td>\n",
       "      <td>0</td>\n",
       "      <td>0</td>\n",
       "      <td>2</td>\n",
       "      <td>1</td>\n",
       "      <td>1</td>\n",
       "      <td>1</td>\n",
       "      <td>1</td>\n",
       "      <td>1</td>\n",
       "      <td>1</td>\n",
       "      <td>1</td>\n",
       "      <td>0</td>\n",
       "      <td>0</td>\n",
       "      <td>0</td>\n",
       "      <td>1</td>\n",
       "      <td>1</td>\n",
       "      <td>0</td>\n",
       "      <td>0</td>\n",
       "    </tr>\n",
       "    <tr>\n",
       "      <th>4533</th>\n",
       "      <td>1</td>\n",
       "      <td>5.0</td>\n",
       "      <td>17</td>\n",
       "      <td>0</td>\n",
       "      <td>0</td>\n",
       "      <td>12</td>\n",
       "      <td>1</td>\n",
       "      <td>2</td>\n",
       "      <td>0</td>\n",
       "      <td>1</td>\n",
       "      <td>1</td>\n",
       "      <td>1</td>\n",
       "      <td>1</td>\n",
       "      <td>0</td>\n",
       "      <td>0</td>\n",
       "      <td>1</td>\n",
       "      <td>1</td>\n",
       "      <td>1</td>\n",
       "      <td>0</td>\n",
       "      <td>0</td>\n",
       "    </tr>\n",
       "    <tr>\n",
       "      <th>...</th>\n",
       "      <td>...</td>\n",
       "      <td>...</td>\n",
       "      <td>...</td>\n",
       "      <td>...</td>\n",
       "      <td>...</td>\n",
       "      <td>...</td>\n",
       "      <td>...</td>\n",
       "      <td>...</td>\n",
       "      <td>...</td>\n",
       "      <td>...</td>\n",
       "      <td>...</td>\n",
       "      <td>...</td>\n",
       "      <td>...</td>\n",
       "      <td>...</td>\n",
       "      <td>...</td>\n",
       "      <td>...</td>\n",
       "      <td>...</td>\n",
       "      <td>...</td>\n",
       "      <td>...</td>\n",
       "      <td>...</td>\n",
       "    </tr>\n",
       "    <tr>\n",
       "      <th>4426</th>\n",
       "      <td>1</td>\n",
       "      <td>0.0</td>\n",
       "      <td>0</td>\n",
       "      <td>0</td>\n",
       "      <td>0</td>\n",
       "      <td>4</td>\n",
       "      <td>0</td>\n",
       "      <td>1</td>\n",
       "      <td>0</td>\n",
       "      <td>0</td>\n",
       "      <td>0</td>\n",
       "      <td>0</td>\n",
       "      <td>1</td>\n",
       "      <td>0</td>\n",
       "      <td>0</td>\n",
       "      <td>0</td>\n",
       "      <td>1</td>\n",
       "      <td>1</td>\n",
       "      <td>0</td>\n",
       "      <td>0</td>\n",
       "    </tr>\n",
       "    <tr>\n",
       "      <th>466</th>\n",
       "      <td>1</td>\n",
       "      <td>0.0</td>\n",
       "      <td>0</td>\n",
       "      <td>0</td>\n",
       "      <td>0</td>\n",
       "      <td>9</td>\n",
       "      <td>1</td>\n",
       "      <td>1</td>\n",
       "      <td>1</td>\n",
       "      <td>0</td>\n",
       "      <td>0</td>\n",
       "      <td>0</td>\n",
       "      <td>1</td>\n",
       "      <td>0</td>\n",
       "      <td>0</td>\n",
       "      <td>0</td>\n",
       "      <td>1</td>\n",
       "      <td>1</td>\n",
       "      <td>0</td>\n",
       "      <td>0</td>\n",
       "    </tr>\n",
       "    <tr>\n",
       "      <th>3092</th>\n",
       "      <td>1</td>\n",
       "      <td>0.0</td>\n",
       "      <td>0</td>\n",
       "      <td>0</td>\n",
       "      <td>0</td>\n",
       "      <td>7</td>\n",
       "      <td>0</td>\n",
       "      <td>1</td>\n",
       "      <td>1</td>\n",
       "      <td>1</td>\n",
       "      <td>1</td>\n",
       "      <td>1</td>\n",
       "      <td>1</td>\n",
       "      <td>0</td>\n",
       "      <td>0</td>\n",
       "      <td>0</td>\n",
       "      <td>1</td>\n",
       "      <td>1</td>\n",
       "      <td>0</td>\n",
       "      <td>0</td>\n",
       "    </tr>\n",
       "    <tr>\n",
       "      <th>3772</th>\n",
       "      <td>1</td>\n",
       "      <td>5.0</td>\n",
       "      <td>1</td>\n",
       "      <td>0</td>\n",
       "      <td>0</td>\n",
       "      <td>14</td>\n",
       "      <td>0</td>\n",
       "      <td>1</td>\n",
       "      <td>1</td>\n",
       "      <td>1</td>\n",
       "      <td>1</td>\n",
       "      <td>1</td>\n",
       "      <td>1</td>\n",
       "      <td>0</td>\n",
       "      <td>0</td>\n",
       "      <td>0</td>\n",
       "      <td>1</td>\n",
       "      <td>1</td>\n",
       "      <td>0</td>\n",
       "      <td>0</td>\n",
       "    </tr>\n",
       "    <tr>\n",
       "      <th>860</th>\n",
       "      <td>1</td>\n",
       "      <td>0.0</td>\n",
       "      <td>0</td>\n",
       "      <td>0</td>\n",
       "      <td>0</td>\n",
       "      <td>11</td>\n",
       "      <td>1</td>\n",
       "      <td>1</td>\n",
       "      <td>1</td>\n",
       "      <td>1</td>\n",
       "      <td>1</td>\n",
       "      <td>1</td>\n",
       "      <td>1</td>\n",
       "      <td>0</td>\n",
       "      <td>0</td>\n",
       "      <td>0</td>\n",
       "      <td>1</td>\n",
       "      <td>0</td>\n",
       "      <td>1</td>\n",
       "      <td>0</td>\n",
       "    </tr>\n",
       "  </tbody>\n",
       "</table>\n",
       "<p>3638 rows × 20 columns</p>\n",
       "</div>"
      ],
      "text/plain": [
       "      предмет  tutor_rating  tutor_reviews  Ученая степень 1  Ученое звание 1  \\\n",
       "540         1           5.0              1                 0                0   \n",
       "3948        1           0.0              0                 0                0   \n",
       "2098        1           0.0              0                 0                0   \n",
       "3280        0           0.0              0                 0                0   \n",
       "4533        1           5.0             17                 0                0   \n",
       "...       ...           ...            ...               ...              ...   \n",
       "4426        1           0.0              0                 0                0   \n",
       "466         1           0.0              0                 0                0   \n",
       "3092        1           0.0              0                 0                0   \n",
       "3772        1           5.0              1                 0                0   \n",
       "860         1           0.0              0                 0                0   \n",
       "\n",
       "      experience  sex  Cnt_Education  школьники с 5 по 9 класс  \\\n",
       "540           10    0              1                         1   \n",
       "3948           4    1              1                         1   \n",
       "2098           4    0              1                         1   \n",
       "3280           2    1              1                         1   \n",
       "4533          12    1              2                         0   \n",
       "...          ...  ...            ...                       ...   \n",
       "4426           4    0              1                         0   \n",
       "466            9    1              1                         1   \n",
       "3092           7    0              1                         1   \n",
       "3772          14    0              1                         1   \n",
       "860           11    1              1                         1   \n",
       "\n",
       "      школьники с 10 по 11 класс  студенты колледжей и техникумов  \\\n",
       "540                            1                                1   \n",
       "3948                           1                                1   \n",
       "2098                           1                                1   \n",
       "3280                           1                                1   \n",
       "4533                           1                                1   \n",
       "...                          ...                              ...   \n",
       "4426                           0                                0   \n",
       "466                            0                                0   \n",
       "3092                           1                                1   \n",
       "3772                           1                                1   \n",
       "860                            1                                1   \n",
       "\n",
       "      абитуриенты  школьная программа  подготовка к ЕГЭ  подготовка к ОГЭ  \\\n",
       "540             1                   1                 0                 0   \n",
       "3948            1                   1                 0                 0   \n",
       "2098            1                   1                 0                 0   \n",
       "3280            1                   1                 0                 0   \n",
       "4533            1                   1                 0                 0   \n",
       "...           ...                 ...               ...               ...   \n",
       "4426            0                   1                 0                 0   \n",
       "466             0                   1                 0                 0   \n",
       "3092            1                   1                 0                 0   \n",
       "3772            1                   1                 0                 0   \n",
       "860             1                   1                 0                 0   \n",
       "\n",
       "      подготовка к олимпиадам  вузовские предметы  частный преподаватель  \\\n",
       "540                         0                   1                      1   \n",
       "3948                        1                   1                      1   \n",
       "2098                        0                   1                      1   \n",
       "3280                        0                   1                      1   \n",
       "4533                        1                   1                      1   \n",
       "...                       ...                 ...                    ...   \n",
       "4426                        0                   1                      1   \n",
       "466                         0                   1                      1   \n",
       "3092                        0                   1                      1   \n",
       "3772                        0                   1                      1   \n",
       "860                         0                   1                      0   \n",
       "\n",
       "      школьный преподаватель  университетский преподаватель  \n",
       "540                        0                              0  \n",
       "3948                       0                              0  \n",
       "2098                       0                              0  \n",
       "3280                       0                              0  \n",
       "4533                       0                              0  \n",
       "...                      ...                            ...  \n",
       "4426                       0                              0  \n",
       "466                        0                              0  \n",
       "3092                       0                              0  \n",
       "3772                       0                              0  \n",
       "860                        1                              0  \n",
       "\n",
       "[3638 rows x 20 columns]"
      ]
     },
     "execution_count": 22,
     "metadata": {},
     "output_type": "execute_result"
    }
   ],
   "source": [
    "from sklearn.preprocessing import LabelEncoder\n",
    "le = LabelEncoder()\n",
    "X_train['предмет'] = le.fit_transform(X_train['предмет'])\n",
    "X_train"
   ]
  },
  {
   "cell_type": "markdown",
   "metadata": {},
   "source": [
    "**С валидационной выборкой нужно сделать те же действия по преобразованию**"
   ]
  },
  {
   "cell_type": "code",
   "execution_count": 23,
   "metadata": {},
   "outputs": [],
   "source": [
    "X_valid['sex'] = X_valid['ФИО'].apply(lambda x: 1 if 'ич' in x else 0)\n",
    "X_valid.drop(columns=['ФИО'], inplace=True)\n",
    "X_valid['tutor_rating'] = X_valid['tutor_rating'].fillna(0).astype('float')\n",
    "X_valid.drop(columns=['Ученое звание 2', 'Ученая степень 2'], inplace=True)\n",
    "X_valid['Ученая степень 1'] = X_valid['Ученая степень 1'].fillna('отсутствует').apply(lambda x: x.lower().strip())\n",
    "X_valid['Ученое звание 1'] = X_valid['Ученое звание 1'].fillna('отсутствует').apply(lambda x: x.lower().strip())\n",
    "X_valid['Ученая степень 1'] = X_valid['Ученая степень 1'].apply(lambda x: 0 if x=='отсутствует' else 1)\n",
    "X_valid['Ученое звание 1'] = X_valid['Ученое звание 1'].apply(lambda x: 0 if x=='отсутствует' else 1)\n",
    "X_valid.drop(columns=['experience_desc', 'description'], inplace=True)\n",
    "X_valid['experience'] = X_valid['experience'].fillna('0').apply(lambda x: float(x.strip().split(' ')[0])).astype(int)\n",
    "X_valid[\"Cnt_Education\"] = X_valid[[\"Education_1\", \"Education_2\", \"Education_3\", \"Education_4\", \"Education_5\", \"Education_6\"]].notna().sum(axis=1)\n",
    "X_valid.drop(columns=['Education_1', 'Education_2', 'Education_3', 'Education_4', 'Education_5', 'Education_6', 'Desc_Education_1', 'Desc_Education_2', 'Desc_Education_3', 'Desc_Education_4', 'Desc_Education_5', 'Desc_Education_6'], inplace=True)\n",
    "X_valid['школьники с 5 по 9 класс'] = X_valid['categories'].apply(lambda x: 1 if 'школьники с 5 по 9 класс' in x.lower() else 0)\n",
    "X_valid['школьники с 10 по 11 класс'] = X_valid['categories'].apply(lambda x: 1 if 'школьники с 10 по 11 класс' in x.lower() else 0)\n",
    "X_valid['студенты колледжей и техникумов'] = X_valid['categories'].apply(lambda x: 1 if 'студенты колледжей и техникумов' in x.lower() else 0)\n",
    "X_valid['абитуриенты'] = X_valid['categories'].apply(lambda x: 1 if 'абитуриенты' in x.lower() else 0)\n",
    "X_valid.drop(columns=['categories'], inplace=True)\n",
    "X_valid['школьная программа'] = X_valid['tutor_head_tags'].apply(lambda x: 1 if 'школьная программа' in x.lower() else 0)\n",
    "X_valid['подготовка к ЕГЭ'] = X_valid['tutor_head_tags'].apply(lambda x: 1 if 'подготовка к ЕГЭ' in x.lower() else 0)\n",
    "X_valid['подготовка к ОГЭ'] = X_valid['tutor_head_tags'].apply(lambda x: 1 if 'подготовка к ОГЭ' in x.lower() else 0)\n",
    "X_valid['подготовка к олимпиадам'] = X_valid['tutor_head_tags'].apply(lambda x: 1 if 'подготовка к олимпиадам' in x.lower() else 0)\n",
    "X_valid['вузовские предметы'] = X_valid['tutor_head_tags'].apply(lambda x: 1 if len(x) > 4 else 0)\n",
    "X_valid.drop(columns=['tutor_head_tags'], inplace=True)\n",
    "X_valid['частный преподаватель'] = X_valid['status'].fillna('частный преподаватель').apply(lambda x: 1 if ('частный преподаватель' in x.lower()  or 'студент' in x.lower() or 'аспирант' in x.lower()) else 0)\n",
    "X_valid['школьный преподаватель'] = X_valid['status'].fillna('частный преподаватель').apply(lambda x: 1 if 'школьный преподаватель' in x.lower() else 0)\n",
    "X_valid['университетский преподаватель'] = X_valid['status'].fillna('частный преподаватель').apply(lambda x: 1 if 'университетский преподаватель' in x.lower() else 0)\n",
    "X_valid.drop(columns=['status'], inplace=True)\n",
    "X_valid['предмет'] = le.transform(X_valid['предмет'])"
   ]
  },
  {
   "cell_type": "markdown",
   "metadata": {},
   "source": [
    "**Попробуем линейную регрессию**"
   ]
  },
  {
   "cell_type": "code",
   "execution_count": 24,
   "metadata": {},
   "outputs": [
    {
     "data": {
      "text/html": [
       "<style>#sk-container-id-1 {\n",
       "  /* Definition of color scheme common for light and dark mode */\n",
       "  --sklearn-color-text: black;\n",
       "  --sklearn-color-line: gray;\n",
       "  /* Definition of color scheme for unfitted estimators */\n",
       "  --sklearn-color-unfitted-level-0: #fff5e6;\n",
       "  --sklearn-color-unfitted-level-1: #f6e4d2;\n",
       "  --sklearn-color-unfitted-level-2: #ffe0b3;\n",
       "  --sklearn-color-unfitted-level-3: chocolate;\n",
       "  /* Definition of color scheme for fitted estimators */\n",
       "  --sklearn-color-fitted-level-0: #f0f8ff;\n",
       "  --sklearn-color-fitted-level-1: #d4ebff;\n",
       "  --sklearn-color-fitted-level-2: #b3dbfd;\n",
       "  --sklearn-color-fitted-level-3: cornflowerblue;\n",
       "\n",
       "  /* Specific color for light theme */\n",
       "  --sklearn-color-text-on-default-background: var(--sg-text-color, var(--theme-code-foreground, var(--jp-content-font-color1, black)));\n",
       "  --sklearn-color-background: var(--sg-background-color, var(--theme-background, var(--jp-layout-color0, white)));\n",
       "  --sklearn-color-border-box: var(--sg-text-color, var(--theme-code-foreground, var(--jp-content-font-color1, black)));\n",
       "  --sklearn-color-icon: #696969;\n",
       "\n",
       "  @media (prefers-color-scheme: dark) {\n",
       "    /* Redefinition of color scheme for dark theme */\n",
       "    --sklearn-color-text-on-default-background: var(--sg-text-color, var(--theme-code-foreground, var(--jp-content-font-color1, white)));\n",
       "    --sklearn-color-background: var(--sg-background-color, var(--theme-background, var(--jp-layout-color0, #111)));\n",
       "    --sklearn-color-border-box: var(--sg-text-color, var(--theme-code-foreground, var(--jp-content-font-color1, white)));\n",
       "    --sklearn-color-icon: #878787;\n",
       "  }\n",
       "}\n",
       "\n",
       "#sk-container-id-1 {\n",
       "  color: var(--sklearn-color-text);\n",
       "}\n",
       "\n",
       "#sk-container-id-1 pre {\n",
       "  padding: 0;\n",
       "}\n",
       "\n",
       "#sk-container-id-1 input.sk-hidden--visually {\n",
       "  border: 0;\n",
       "  clip: rect(1px 1px 1px 1px);\n",
       "  clip: rect(1px, 1px, 1px, 1px);\n",
       "  height: 1px;\n",
       "  margin: -1px;\n",
       "  overflow: hidden;\n",
       "  padding: 0;\n",
       "  position: absolute;\n",
       "  width: 1px;\n",
       "}\n",
       "\n",
       "#sk-container-id-1 div.sk-dashed-wrapped {\n",
       "  border: 1px dashed var(--sklearn-color-line);\n",
       "  margin: 0 0.4em 0.5em 0.4em;\n",
       "  box-sizing: border-box;\n",
       "  padding-bottom: 0.4em;\n",
       "  background-color: var(--sklearn-color-background);\n",
       "}\n",
       "\n",
       "#sk-container-id-1 div.sk-container {\n",
       "  /* jupyter's `normalize.less` sets `[hidden] { display: none; }`\n",
       "     but bootstrap.min.css set `[hidden] { display: none !important; }`\n",
       "     so we also need the `!important` here to be able to override the\n",
       "     default hidden behavior on the sphinx rendered scikit-learn.org.\n",
       "     See: https://github.com/scikit-learn/scikit-learn/issues/21755 */\n",
       "  display: inline-block !important;\n",
       "  position: relative;\n",
       "}\n",
       "\n",
       "#sk-container-id-1 div.sk-text-repr-fallback {\n",
       "  display: none;\n",
       "}\n",
       "\n",
       "div.sk-parallel-item,\n",
       "div.sk-serial,\n",
       "div.sk-item {\n",
       "  /* draw centered vertical line to link estimators */\n",
       "  background-image: linear-gradient(var(--sklearn-color-text-on-default-background), var(--sklearn-color-text-on-default-background));\n",
       "  background-size: 2px 100%;\n",
       "  background-repeat: no-repeat;\n",
       "  background-position: center center;\n",
       "}\n",
       "\n",
       "/* Parallel-specific style estimator block */\n",
       "\n",
       "#sk-container-id-1 div.sk-parallel-item::after {\n",
       "  content: \"\";\n",
       "  width: 100%;\n",
       "  border-bottom: 2px solid var(--sklearn-color-text-on-default-background);\n",
       "  flex-grow: 1;\n",
       "}\n",
       "\n",
       "#sk-container-id-1 div.sk-parallel {\n",
       "  display: flex;\n",
       "  align-items: stretch;\n",
       "  justify-content: center;\n",
       "  background-color: var(--sklearn-color-background);\n",
       "  position: relative;\n",
       "}\n",
       "\n",
       "#sk-container-id-1 div.sk-parallel-item {\n",
       "  display: flex;\n",
       "  flex-direction: column;\n",
       "}\n",
       "\n",
       "#sk-container-id-1 div.sk-parallel-item:first-child::after {\n",
       "  align-self: flex-end;\n",
       "  width: 50%;\n",
       "}\n",
       "\n",
       "#sk-container-id-1 div.sk-parallel-item:last-child::after {\n",
       "  align-self: flex-start;\n",
       "  width: 50%;\n",
       "}\n",
       "\n",
       "#sk-container-id-1 div.sk-parallel-item:only-child::after {\n",
       "  width: 0;\n",
       "}\n",
       "\n",
       "/* Serial-specific style estimator block */\n",
       "\n",
       "#sk-container-id-1 div.sk-serial {\n",
       "  display: flex;\n",
       "  flex-direction: column;\n",
       "  align-items: center;\n",
       "  background-color: var(--sklearn-color-background);\n",
       "  padding-right: 1em;\n",
       "  padding-left: 1em;\n",
       "}\n",
       "\n",
       "\n",
       "/* Toggleable style: style used for estimator/Pipeline/ColumnTransformer box that is\n",
       "clickable and can be expanded/collapsed.\n",
       "- Pipeline and ColumnTransformer use this feature and define the default style\n",
       "- Estimators will overwrite some part of the style using the `sk-estimator` class\n",
       "*/\n",
       "\n",
       "/* Pipeline and ColumnTransformer style (default) */\n",
       "\n",
       "#sk-container-id-1 div.sk-toggleable {\n",
       "  /* Default theme specific background. It is overwritten whether we have a\n",
       "  specific estimator or a Pipeline/ColumnTransformer */\n",
       "  background-color: var(--sklearn-color-background);\n",
       "}\n",
       "\n",
       "/* Toggleable label */\n",
       "#sk-container-id-1 label.sk-toggleable__label {\n",
       "  cursor: pointer;\n",
       "  display: block;\n",
       "  width: 100%;\n",
       "  margin-bottom: 0;\n",
       "  padding: 0.5em;\n",
       "  box-sizing: border-box;\n",
       "  text-align: center;\n",
       "}\n",
       "\n",
       "#sk-container-id-1 label.sk-toggleable__label-arrow:before {\n",
       "  /* Arrow on the left of the label */\n",
       "  content: \"▸\";\n",
       "  float: left;\n",
       "  margin-right: 0.25em;\n",
       "  color: var(--sklearn-color-icon);\n",
       "}\n",
       "\n",
       "#sk-container-id-1 label.sk-toggleable__label-arrow:hover:before {\n",
       "  color: var(--sklearn-color-text);\n",
       "}\n",
       "\n",
       "/* Toggleable content - dropdown */\n",
       "\n",
       "#sk-container-id-1 div.sk-toggleable__content {\n",
       "  max-height: 0;\n",
       "  max-width: 0;\n",
       "  overflow: hidden;\n",
       "  text-align: left;\n",
       "  /* unfitted */\n",
       "  background-color: var(--sklearn-color-unfitted-level-0);\n",
       "}\n",
       "\n",
       "#sk-container-id-1 div.sk-toggleable__content.fitted {\n",
       "  /* fitted */\n",
       "  background-color: var(--sklearn-color-fitted-level-0);\n",
       "}\n",
       "\n",
       "#sk-container-id-1 div.sk-toggleable__content pre {\n",
       "  margin: 0.2em;\n",
       "  border-radius: 0.25em;\n",
       "  color: var(--sklearn-color-text);\n",
       "  /* unfitted */\n",
       "  background-color: var(--sklearn-color-unfitted-level-0);\n",
       "}\n",
       "\n",
       "#sk-container-id-1 div.sk-toggleable__content.fitted pre {\n",
       "  /* unfitted */\n",
       "  background-color: var(--sklearn-color-fitted-level-0);\n",
       "}\n",
       "\n",
       "#sk-container-id-1 input.sk-toggleable__control:checked~div.sk-toggleable__content {\n",
       "  /* Expand drop-down */\n",
       "  max-height: 200px;\n",
       "  max-width: 100%;\n",
       "  overflow: auto;\n",
       "}\n",
       "\n",
       "#sk-container-id-1 input.sk-toggleable__control:checked~label.sk-toggleable__label-arrow:before {\n",
       "  content: \"▾\";\n",
       "}\n",
       "\n",
       "/* Pipeline/ColumnTransformer-specific style */\n",
       "\n",
       "#sk-container-id-1 div.sk-label input.sk-toggleable__control:checked~label.sk-toggleable__label {\n",
       "  color: var(--sklearn-color-text);\n",
       "  background-color: var(--sklearn-color-unfitted-level-2);\n",
       "}\n",
       "\n",
       "#sk-container-id-1 div.sk-label.fitted input.sk-toggleable__control:checked~label.sk-toggleable__label {\n",
       "  background-color: var(--sklearn-color-fitted-level-2);\n",
       "}\n",
       "\n",
       "/* Estimator-specific style */\n",
       "\n",
       "/* Colorize estimator box */\n",
       "#sk-container-id-1 div.sk-estimator input.sk-toggleable__control:checked~label.sk-toggleable__label {\n",
       "  /* unfitted */\n",
       "  background-color: var(--sklearn-color-unfitted-level-2);\n",
       "}\n",
       "\n",
       "#sk-container-id-1 div.sk-estimator.fitted input.sk-toggleable__control:checked~label.sk-toggleable__label {\n",
       "  /* fitted */\n",
       "  background-color: var(--sklearn-color-fitted-level-2);\n",
       "}\n",
       "\n",
       "#sk-container-id-1 div.sk-label label.sk-toggleable__label,\n",
       "#sk-container-id-1 div.sk-label label {\n",
       "  /* The background is the default theme color */\n",
       "  color: var(--sklearn-color-text-on-default-background);\n",
       "}\n",
       "\n",
       "/* On hover, darken the color of the background */\n",
       "#sk-container-id-1 div.sk-label:hover label.sk-toggleable__label {\n",
       "  color: var(--sklearn-color-text);\n",
       "  background-color: var(--sklearn-color-unfitted-level-2);\n",
       "}\n",
       "\n",
       "/* Label box, darken color on hover, fitted */\n",
       "#sk-container-id-1 div.sk-label.fitted:hover label.sk-toggleable__label.fitted {\n",
       "  color: var(--sklearn-color-text);\n",
       "  background-color: var(--sklearn-color-fitted-level-2);\n",
       "}\n",
       "\n",
       "/* Estimator label */\n",
       "\n",
       "#sk-container-id-1 div.sk-label label {\n",
       "  font-family: monospace;\n",
       "  font-weight: bold;\n",
       "  display: inline-block;\n",
       "  line-height: 1.2em;\n",
       "}\n",
       "\n",
       "#sk-container-id-1 div.sk-label-container {\n",
       "  text-align: center;\n",
       "}\n",
       "\n",
       "/* Estimator-specific */\n",
       "#sk-container-id-1 div.sk-estimator {\n",
       "  font-family: monospace;\n",
       "  border: 1px dotted var(--sklearn-color-border-box);\n",
       "  border-radius: 0.25em;\n",
       "  box-sizing: border-box;\n",
       "  margin-bottom: 0.5em;\n",
       "  /* unfitted */\n",
       "  background-color: var(--sklearn-color-unfitted-level-0);\n",
       "}\n",
       "\n",
       "#sk-container-id-1 div.sk-estimator.fitted {\n",
       "  /* fitted */\n",
       "  background-color: var(--sklearn-color-fitted-level-0);\n",
       "}\n",
       "\n",
       "/* on hover */\n",
       "#sk-container-id-1 div.sk-estimator:hover {\n",
       "  /* unfitted */\n",
       "  background-color: var(--sklearn-color-unfitted-level-2);\n",
       "}\n",
       "\n",
       "#sk-container-id-1 div.sk-estimator.fitted:hover {\n",
       "  /* fitted */\n",
       "  background-color: var(--sklearn-color-fitted-level-2);\n",
       "}\n",
       "\n",
       "/* Specification for estimator info (e.g. \"i\" and \"?\") */\n",
       "\n",
       "/* Common style for \"i\" and \"?\" */\n",
       "\n",
       ".sk-estimator-doc-link,\n",
       "a:link.sk-estimator-doc-link,\n",
       "a:visited.sk-estimator-doc-link {\n",
       "  float: right;\n",
       "  font-size: smaller;\n",
       "  line-height: 1em;\n",
       "  font-family: monospace;\n",
       "  background-color: var(--sklearn-color-background);\n",
       "  border-radius: 1em;\n",
       "  height: 1em;\n",
       "  width: 1em;\n",
       "  text-decoration: none !important;\n",
       "  margin-left: 1ex;\n",
       "  /* unfitted */\n",
       "  border: var(--sklearn-color-unfitted-level-1) 1pt solid;\n",
       "  color: var(--sklearn-color-unfitted-level-1);\n",
       "}\n",
       "\n",
       ".sk-estimator-doc-link.fitted,\n",
       "a:link.sk-estimator-doc-link.fitted,\n",
       "a:visited.sk-estimator-doc-link.fitted {\n",
       "  /* fitted */\n",
       "  border: var(--sklearn-color-fitted-level-1) 1pt solid;\n",
       "  color: var(--sklearn-color-fitted-level-1);\n",
       "}\n",
       "\n",
       "/* On hover */\n",
       "div.sk-estimator:hover .sk-estimator-doc-link:hover,\n",
       ".sk-estimator-doc-link:hover,\n",
       "div.sk-label-container:hover .sk-estimator-doc-link:hover,\n",
       ".sk-estimator-doc-link:hover {\n",
       "  /* unfitted */\n",
       "  background-color: var(--sklearn-color-unfitted-level-3);\n",
       "  color: var(--sklearn-color-background);\n",
       "  text-decoration: none;\n",
       "}\n",
       "\n",
       "div.sk-estimator.fitted:hover .sk-estimator-doc-link.fitted:hover,\n",
       ".sk-estimator-doc-link.fitted:hover,\n",
       "div.sk-label-container:hover .sk-estimator-doc-link.fitted:hover,\n",
       ".sk-estimator-doc-link.fitted:hover {\n",
       "  /* fitted */\n",
       "  background-color: var(--sklearn-color-fitted-level-3);\n",
       "  color: var(--sklearn-color-background);\n",
       "  text-decoration: none;\n",
       "}\n",
       "\n",
       "/* Span, style for the box shown on hovering the info icon */\n",
       ".sk-estimator-doc-link span {\n",
       "  display: none;\n",
       "  z-index: 9999;\n",
       "  position: relative;\n",
       "  font-weight: normal;\n",
       "  right: .2ex;\n",
       "  padding: .5ex;\n",
       "  margin: .5ex;\n",
       "  width: min-content;\n",
       "  min-width: 20ex;\n",
       "  max-width: 50ex;\n",
       "  color: var(--sklearn-color-text);\n",
       "  box-shadow: 2pt 2pt 4pt #999;\n",
       "  /* unfitted */\n",
       "  background: var(--sklearn-color-unfitted-level-0);\n",
       "  border: .5pt solid var(--sklearn-color-unfitted-level-3);\n",
       "}\n",
       "\n",
       ".sk-estimator-doc-link.fitted span {\n",
       "  /* fitted */\n",
       "  background: var(--sklearn-color-fitted-level-0);\n",
       "  border: var(--sklearn-color-fitted-level-3);\n",
       "}\n",
       "\n",
       ".sk-estimator-doc-link:hover span {\n",
       "  display: block;\n",
       "}\n",
       "\n",
       "/* \"?\"-specific style due to the `<a>` HTML tag */\n",
       "\n",
       "#sk-container-id-1 a.estimator_doc_link {\n",
       "  float: right;\n",
       "  font-size: 1rem;\n",
       "  line-height: 1em;\n",
       "  font-family: monospace;\n",
       "  background-color: var(--sklearn-color-background);\n",
       "  border-radius: 1rem;\n",
       "  height: 1rem;\n",
       "  width: 1rem;\n",
       "  text-decoration: none;\n",
       "  /* unfitted */\n",
       "  color: var(--sklearn-color-unfitted-level-1);\n",
       "  border: var(--sklearn-color-unfitted-level-1) 1pt solid;\n",
       "}\n",
       "\n",
       "#sk-container-id-1 a.estimator_doc_link.fitted {\n",
       "  /* fitted */\n",
       "  border: var(--sklearn-color-fitted-level-1) 1pt solid;\n",
       "  color: var(--sklearn-color-fitted-level-1);\n",
       "}\n",
       "\n",
       "/* On hover */\n",
       "#sk-container-id-1 a.estimator_doc_link:hover {\n",
       "  /* unfitted */\n",
       "  background-color: var(--sklearn-color-unfitted-level-3);\n",
       "  color: var(--sklearn-color-background);\n",
       "  text-decoration: none;\n",
       "}\n",
       "\n",
       "#sk-container-id-1 a.estimator_doc_link.fitted:hover {\n",
       "  /* fitted */\n",
       "  background-color: var(--sklearn-color-fitted-level-3);\n",
       "}\n",
       "</style><div id=\"sk-container-id-1\" class=\"sk-top-container\"><div class=\"sk-text-repr-fallback\"><pre>LinearRegression()</pre><b>In a Jupyter environment, please rerun this cell to show the HTML representation or trust the notebook. <br />On GitHub, the HTML representation is unable to render, please try loading this page with nbviewer.org.</b></div><div class=\"sk-container\" hidden><div class=\"sk-item\"><div class=\"sk-estimator fitted sk-toggleable\"><input class=\"sk-toggleable__control sk-hidden--visually\" id=\"sk-estimator-id-1\" type=\"checkbox\" checked><label for=\"sk-estimator-id-1\" class=\"sk-toggleable__label fitted sk-toggleable__label-arrow fitted\">&nbsp;&nbsp;LinearRegression<a class=\"sk-estimator-doc-link fitted\" rel=\"noreferrer\" target=\"_blank\" href=\"https://scikit-learn.org/1.5/modules/generated/sklearn.linear_model.LinearRegression.html\">?<span>Documentation for LinearRegression</span></a><span class=\"sk-estimator-doc-link fitted\">i<span>Fitted</span></span></label><div class=\"sk-toggleable__content fitted\"><pre>LinearRegression()</pre></div> </div></div></div></div>"
      ],
      "text/plain": [
       "LinearRegression()"
      ]
     },
     "execution_count": 24,
     "metadata": {},
     "output_type": "execute_result"
    }
   ],
   "source": [
    "from sklearn.linear_model import LinearRegression\n",
    "lr = LinearRegression()\n",
    "lr.fit(X_train, y_train)"
   ]
  },
  {
   "cell_type": "code",
   "execution_count": null,
   "metadata": {},
   "outputs": [
    {
     "data": {
      "text/plain": [
       "108.2659637096866"
      ]
     },
     "execution_count": 27,
     "metadata": {},
     "output_type": "execute_result"
    }
   ],
   "source": [
    "from sklearn.metrics import mean_squared_error\n",
    "mean_squared_error(y_valid, lr.predict(X_valid))\n",
    "#Ошибка получилась большеватая..."
   ]
  },
  {
   "cell_type": "code",
   "execution_count": 41,
   "metadata": {},
   "outputs": [
    {
     "data": {
      "text/html": [
       "<div>\n",
       "<style scoped>\n",
       "    .dataframe tbody tr th:only-of-type {\n",
       "        vertical-align: middle;\n",
       "    }\n",
       "\n",
       "    .dataframe tbody tr th {\n",
       "        vertical-align: top;\n",
       "    }\n",
       "\n",
       "    .dataframe thead th {\n",
       "        text-align: right;\n",
       "    }\n",
       "</style>\n",
       "<table border=\"1\" class=\"dataframe\">\n",
       "  <thead>\n",
       "    <tr style=\"text-align: right;\">\n",
       "      <th></th>\n",
       "      <th>y_valid</th>\n",
       "      <th>y_pred</th>\n",
       "      <th>delta_pct</th>\n",
       "    </tr>\n",
       "  </thead>\n",
       "  <tbody>\n",
       "    <tr>\n",
       "      <th>21</th>\n",
       "      <td>0.066667</td>\n",
       "      <td>16.293339</td>\n",
       "      <td>24340.008327</td>\n",
       "    </tr>\n",
       "    <tr>\n",
       "      <th>871</th>\n",
       "      <td>0.066667</td>\n",
       "      <td>14.459018</td>\n",
       "      <td>21588.526533</td>\n",
       "    </tr>\n",
       "    <tr>\n",
       "      <th>673</th>\n",
       "      <td>0.083333</td>\n",
       "      <td>16.844677</td>\n",
       "      <td>20113.612153</td>\n",
       "    </tr>\n",
       "    <tr>\n",
       "      <th>143</th>\n",
       "      <td>0.094444</td>\n",
       "      <td>18.888457</td>\n",
       "      <td>19899.542975</td>\n",
       "    </tr>\n",
       "    <tr>\n",
       "      <th>564</th>\n",
       "      <td>0.158333</td>\n",
       "      <td>30.771156</td>\n",
       "      <td>19334.414235</td>\n",
       "    </tr>\n",
       "    <tr>\n",
       "      <th>...</th>\n",
       "      <td>...</td>\n",
       "      <td>...</td>\n",
       "      <td>...</td>\n",
       "    </tr>\n",
       "    <tr>\n",
       "      <th>797</th>\n",
       "      <td>16.666667</td>\n",
       "      <td>16.607915</td>\n",
       "      <td>0.352511</td>\n",
       "    </tr>\n",
       "    <tr>\n",
       "      <th>682</th>\n",
       "      <td>16.666667</td>\n",
       "      <td>16.607915</td>\n",
       "      <td>0.352511</td>\n",
       "    </tr>\n",
       "    <tr>\n",
       "      <th>500</th>\n",
       "      <td>16.666667</td>\n",
       "      <td>16.710603</td>\n",
       "      <td>0.263619</td>\n",
       "    </tr>\n",
       "    <tr>\n",
       "      <th>111</th>\n",
       "      <td>16.666667</td>\n",
       "      <td>16.677039</td>\n",
       "      <td>0.062233</td>\n",
       "    </tr>\n",
       "    <tr>\n",
       "      <th>55</th>\n",
       "      <td>22.222222</td>\n",
       "      <td>22.214624</td>\n",
       "      <td>0.034193</td>\n",
       "    </tr>\n",
       "  </tbody>\n",
       "</table>\n",
       "<p>910 rows × 3 columns</p>\n",
       "</div>"
      ],
      "text/plain": [
       "       y_valid     y_pred     delta_pct\n",
       "21    0.066667  16.293339  24340.008327\n",
       "871   0.066667  14.459018  21588.526533\n",
       "673   0.083333  16.844677  20113.612153\n",
       "143   0.094444  18.888457  19899.542975\n",
       "564   0.158333  30.771156  19334.414235\n",
       "..         ...        ...           ...\n",
       "797  16.666667  16.607915      0.352511\n",
       "682  16.666667  16.607915      0.352511\n",
       "500  16.666667  16.710603      0.263619\n",
       "111  16.666667  16.677039      0.062233\n",
       "55   22.222222  22.214624      0.034193\n",
       "\n",
       "[910 rows x 3 columns]"
      ]
     },
     "execution_count": 41,
     "metadata": {},
     "output_type": "execute_result"
    }
   ],
   "source": [
    "import numpy as np\n",
    "result_lr = pd.DataFrame([np.array(y_valid), lr.predict(X_valid), abs(np.array(y_valid) - lr.predict(X_valid))/np.array(y_valid)*100]).T\n",
    "result_lr.columns = ['y_valid', 'y_pred', 'delta_pct']\n",
    "result_lr.sort_values('delta_pct', ascending=False)"
   ]
  },
  {
   "cell_type": "code",
   "execution_count": 44,
   "metadata": {},
   "outputs": [],
   "source": [
    "test['sex'] = test['ФИО'].apply(lambda x: 1 if 'ич' in x else 0)\n",
    "test.drop(columns=['ФИО'], inplace=True)\n",
    "test['tutor_rating'] = test['tutor_rating'].fillna(0).astype('float')\n",
    "test.drop(columns=['Ученое звание 2', 'Ученая степень 2'], inplace=True)\n",
    "test['Ученая степень 1'] = test['Ученая степень 1'].fillna('отсутствует').apply(lambda x: x.lower().strip())\n",
    "test['Ученое звание 1'] = test['Ученое звание 1'].fillna('отсутствует').apply(lambda x: x.lower().strip())\n",
    "test['Ученая степень 1'] = test['Ученая степень 1'].apply(lambda x: 0 if x=='отсутствует' else 1)\n",
    "test['Ученое звание 1'] = test['Ученое звание 1'].apply(lambda x: 0 if x=='отсутствует' else 1)\n",
    "test.drop(columns=['experience_desc', 'description'], inplace=True)\n",
    "test['experience'] = test['experience'].fillna('0').apply(lambda x: float(x.strip().split(' ')[0])).astype(int)\n",
    "test[\"Cnt_Education\"] = test[[\"Education_1\", \"Education_2\", \"Education_3\", \"Education_4\", \"Education_5\", \"Education_6\"]].notna().sum(axis=1)\n",
    "test.drop(columns=['Education_1', 'Education_2', 'Education_3', 'Education_4', 'Education_5', 'Education_6', 'Desc_Education_1', 'Desc_Education_2', 'Desc_Education_3', 'Desc_Education_4', 'Desc_Education_5', 'Desc_Education_6'], inplace=True)\n",
    "test['школьники с 5 по 9 класс'] = test['categories'].apply(lambda x: 1 if 'школьники с 5 по 9 класс' in x.lower() else 0)\n",
    "test['школьники с 10 по 11 класс'] = test['categories'].apply(lambda x: 1 if 'школьники с 10 по 11 класс' in x.lower() else 0)\n",
    "test['студенты колледжей и техникумов'] = test['categories'].apply(lambda x: 1 if 'студенты колледжей и техникумов' in x.lower() else 0)\n",
    "test['абитуриенты'] = test['categories'].apply(lambda x: 1 if 'абитуриенты' in x.lower() else 0)\n",
    "test.drop(columns=['categories'], inplace=True)\n",
    "test['школьная программа'] = test['tutor_head_tags'].apply(lambda x: 1 if 'школьная программа' in x.lower() else 0)\n",
    "test['подготовка к ЕГЭ'] = test['tutor_head_tags'].apply(lambda x: 1 if 'подготовка к ЕГЭ' in x.lower() else 0)\n",
    "test['подготовка к ОГЭ'] = test['tutor_head_tags'].apply(lambda x: 1 if 'подготовка к ОГЭ' in x.lower() else 0)\n",
    "test['подготовка к олимпиадам'] = test['tutor_head_tags'].apply(lambda x: 1 if 'подготовка к олимпиадам' in x.lower() else 0)\n",
    "test['вузовские предметы'] = test['tutor_head_tags'].apply(lambda x: 1 if len(x) > 4 else 0)\n",
    "test.drop(columns=['tutor_head_tags'], inplace=True)\n",
    "test['частный преподаватель'] = test['status'].fillna('частный преподаватель').apply(lambda x: 1 if ('частный преподаватель' in x.lower()  or 'студент' in x.lower() or 'аспирант' in x.lower()) else 0)\n",
    "test['школьный преподаватель'] = test['status'].fillna('частный преподаватель').apply(lambda x: 1 if 'школьный преподаватель' in x.lower() else 0)\n",
    "test['университетский преподаватель'] = test['status'].fillna('частный преподаватель').apply(lambda x: 1 if 'университетский преподаватель' in x.lower() else 0)\n",
    "test.drop(columns=['status'], inplace=True)\n",
    "test['предмет'] = le.transform(test['предмет'])"
   ]
  },
  {
   "cell_type": "code",
   "execution_count": 60,
   "metadata": {},
   "outputs": [],
   "source": [
    "submission_lr = pd.DataFrame({\n",
    "    'index': test.index,\n",
    "    'mean_price': lr.predict(test)\n",
    "})\n",
    "submission_lr.to_csv('submission_lr.csv', index=False)"
   ]
  },
  {
   "attachments": {
    "image.png": {
     "image/png": "[encoded data removed]"
    }
   },
   "cell_type": "markdown",
   "metadata": {},
   "source": [
    "![image.png](attachment:image.png)"
   ]
  },
  {
   "cell_type": "markdown",
   "metadata": {},
   "source": [
    "**Попробуем случайный лес**"
   ]
  },
  {
   "cell_type": "code",
   "execution_count": 63,
   "metadata": {},
   "outputs": [],
   "source": [
    "from sklearn.ensemble import RandomForestRegressor"
   ]
  },
  {
   "cell_type": "code",
   "execution_count": 69,
   "metadata": {},
   "outputs": [
    {
     "data": {
      "text/html": [
       "<div>\n",
       "<style scoped>\n",
       "    .dataframe tbody tr th:only-of-type {\n",
       "        vertical-align: middle;\n",
       "    }\n",
       "\n",
       "    .dataframe tbody tr th {\n",
       "        vertical-align: top;\n",
       "    }\n",
       "\n",
       "    .dataframe thead th {\n",
       "        text-align: right;\n",
       "    }\n",
       "</style>\n",
       "<table border=\"1\" class=\"dataframe\">\n",
       "  <thead>\n",
       "    <tr style=\"text-align: right;\">\n",
       "      <th></th>\n",
       "      <th>y_test</th>\n",
       "      <th>y_pred</th>\n",
       "    </tr>\n",
       "  </thead>\n",
       "  <tbody>\n",
       "    <tr>\n",
       "      <th>0</th>\n",
       "      <td>25.000000</td>\n",
       "      <td>17.800900</td>\n",
       "    </tr>\n",
       "    <tr>\n",
       "      <th>1</th>\n",
       "      <td>18.333333</td>\n",
       "      <td>13.618101</td>\n",
       "    </tr>\n",
       "    <tr>\n",
       "      <th>2</th>\n",
       "      <td>41.666667</td>\n",
       "      <td>17.813334</td>\n",
       "    </tr>\n",
       "    <tr>\n",
       "      <th>3</th>\n",
       "      <td>20.000000</td>\n",
       "      <td>16.007574</td>\n",
       "    </tr>\n",
       "    <tr>\n",
       "      <th>4</th>\n",
       "      <td>25.000000</td>\n",
       "      <td>19.460934</td>\n",
       "    </tr>\n",
       "  </tbody>\n",
       "</table>\n",
       "</div>"
      ],
      "text/plain": [
       "      y_test     y_pred\n",
       "0  25.000000  17.800900\n",
       "1  18.333333  13.618101\n",
       "2  41.666667  17.813334\n",
       "3  20.000000  16.007574\n",
       "4  25.000000  19.460934"
      ]
     },
     "execution_count": 69,
     "metadata": {},
     "output_type": "execute_result"
    }
   ],
   "source": [
    "rg_rf = RandomForestRegressor(max_depth=5)\n",
    "rg_rf.fit(X_train, y_train)\n",
    "# смотрим разницу факта и прогноза для случайного леса\n",
    "result_rg_rf = pd.DataFrame([np.array(y_valid), rg_rf.predict(X_valid)]).T\n",
    "result_rg_rf.columns = ['y_test', 'y_pred']\n",
    "result_rg_rf.head()"
   ]
  },
  {
   "cell_type": "code",
   "execution_count": null,
   "metadata": {},
   "outputs": [
    {
     "data": {
      "text/plain": [
       "106.66032354302818"
      ]
     },
     "execution_count": 70,
     "metadata": {},
     "output_type": "execute_result"
    }
   ],
   "source": [
    "mean_squared_error(y_valid, rg_rf.predict(X_valid))"
   ]
  },
  {
   "cell_type": "code",
   "execution_count": 71,
   "metadata": {},
   "outputs": [
    {
     "name": "stdout",
     "output_type": "stream",
     "text": [
      "Лучшая глубина = 10\n",
      "Лучшее значение neg_mean_squared_error при этой глубине на тренировачной выборке = -88.82075532005017\n"
     ]
    }
   ],
   "source": [
    "#Поиском по сетке найдем оптимальную глубину дерева решений\n",
    "from sklearn.model_selection import GridSearchCV\n",
    "dt_model = RandomForestRegressor()\n",
    "param_grid = {'max_depth': list(range(1, 20))}\n",
    "grid_search = GridSearchCV(estimator=dt_model, param_grid=param_grid, scoring='neg_mean_squared_error', cv=5).fit(X_train, y_train)\n",
    "print(f\"Лучшая глубина = {grid_search.best_params_['max_depth']}\")\n",
    "print(f'Лучшее значение neg_mean_squared_error при этой глубине на тренировачной выборке =', grid_search.best_score_)"
   ]
  },
  {
   "cell_type": "code",
   "execution_count": 72,
   "metadata": {},
   "outputs": [
    {
     "data": {
      "text/html": [
       "<div>\n",
       "<style scoped>\n",
       "    .dataframe tbody tr th:only-of-type {\n",
       "        vertical-align: middle;\n",
       "    }\n",
       "\n",
       "    .dataframe tbody tr th {\n",
       "        vertical-align: top;\n",
       "    }\n",
       "\n",
       "    .dataframe thead th {\n",
       "        text-align: right;\n",
       "    }\n",
       "</style>\n",
       "<table border=\"1\" class=\"dataframe\">\n",
       "  <thead>\n",
       "    <tr style=\"text-align: right;\">\n",
       "      <th></th>\n",
       "      <th>y_test</th>\n",
       "      <th>y_pred</th>\n",
       "    </tr>\n",
       "  </thead>\n",
       "  <tbody>\n",
       "    <tr>\n",
       "      <th>0</th>\n",
       "      <td>25.000000</td>\n",
       "      <td>18.162012</td>\n",
       "    </tr>\n",
       "    <tr>\n",
       "      <th>1</th>\n",
       "      <td>18.333333</td>\n",
       "      <td>12.971319</td>\n",
       "    </tr>\n",
       "    <tr>\n",
       "      <th>2</th>\n",
       "      <td>41.666667</td>\n",
       "      <td>18.029779</td>\n",
       "    </tr>\n",
       "    <tr>\n",
       "      <th>3</th>\n",
       "      <td>20.000000</td>\n",
       "      <td>14.193034</td>\n",
       "    </tr>\n",
       "    <tr>\n",
       "      <th>4</th>\n",
       "      <td>25.000000</td>\n",
       "      <td>20.368215</td>\n",
       "    </tr>\n",
       "  </tbody>\n",
       "</table>\n",
       "</div>"
      ],
      "text/plain": [
       "      y_test     y_pred\n",
       "0  25.000000  18.162012\n",
       "1  18.333333  12.971319\n",
       "2  41.666667  18.029779\n",
       "3  20.000000  14.193034\n",
       "4  25.000000  20.368215"
      ]
     },
     "execution_count": 72,
     "metadata": {},
     "output_type": "execute_result"
    }
   ],
   "source": [
    "rg_rf = RandomForestRegressor(max_depth=10)\n",
    "rg_rf.fit(X_train, y_train)\n",
    "# смотрим разницу факта и прогноза для случайного леса\n",
    "result_rg_rf = pd.DataFrame([np.array(y_valid), rg_rf.predict(X_valid)]).T\n",
    "result_rg_rf.columns = ['y_test', 'y_pred']\n",
    "result_rg_rf.head()"
   ]
  },
  {
   "cell_type": "code",
   "execution_count": null,
   "metadata": {},
   "outputs": [
    {
     "data": {
      "text/plain": [
       "103.86704998888246"
      ]
     },
     "execution_count": 84,
     "metadata": {},
     "output_type": "execute_result"
    }
   ],
   "source": [
    "mean_squared_error(y_valid, rg_rf.predict(X_valid))"
   ]
  },
  {
   "cell_type": "code",
   "execution_count": 75,
   "metadata": {},
   "outputs": [],
   "source": [
    "submission_rg_rf = pd.DataFrame({\n",
    "    'index': test.index,\n",
    "    'mean_price': rg_rf.predict(test)\n",
    "})\n",
    "submission_rg_rf.to_csv('submission_rg_rf.csv', index=False)"
   ]
  },
  {
   "attachments": {
    "image.png": {
     "image/png": "[encoded data removed]"
    }
   },
   "cell_type": "markdown",
   "metadata": {},
   "source": [
    "![image.png](attachment:image.png)"
   ]
  },
  {
   "cell_type": "markdown",
   "metadata": {},
   "source": [
    "**Попробуем модель KNN**"
   ]
  },
  {
   "cell_type": "code",
   "execution_count": 86,
   "metadata": {},
   "outputs": [
    {
     "data": {
      "text/html": [
       "<div>\n",
       "<style scoped>\n",
       "    .dataframe tbody tr th:only-of-type {\n",
       "        vertical-align: middle;\n",
       "    }\n",
       "\n",
       "    .dataframe tbody tr th {\n",
       "        vertical-align: top;\n",
       "    }\n",
       "\n",
       "    .dataframe thead th {\n",
       "        text-align: right;\n",
       "    }\n",
       "</style>\n",
       "<table border=\"1\" class=\"dataframe\">\n",
       "  <thead>\n",
       "    <tr style=\"text-align: right;\">\n",
       "      <th></th>\n",
       "      <th>y_test</th>\n",
       "      <th>y_pred</th>\n",
       "    </tr>\n",
       "  </thead>\n",
       "  <tbody>\n",
       "    <tr>\n",
       "      <th>0</th>\n",
       "      <td>25.000000</td>\n",
       "      <td>19.000000</td>\n",
       "    </tr>\n",
       "    <tr>\n",
       "      <th>1</th>\n",
       "      <td>18.333333</td>\n",
       "      <td>13.333333</td>\n",
       "    </tr>\n",
       "    <tr>\n",
       "      <th>2</th>\n",
       "      <td>41.666667</td>\n",
       "      <td>9.873333</td>\n",
       "    </tr>\n",
       "    <tr>\n",
       "      <th>3</th>\n",
       "      <td>20.000000</td>\n",
       "      <td>17.023333</td>\n",
       "    </tr>\n",
       "    <tr>\n",
       "      <th>4</th>\n",
       "      <td>25.000000</td>\n",
       "      <td>25.000000</td>\n",
       "    </tr>\n",
       "  </tbody>\n",
       "</table>\n",
       "</div>"
      ],
      "text/plain": [
       "      y_test     y_pred\n",
       "0  25.000000  19.000000\n",
       "1  18.333333  13.333333\n",
       "2  41.666667   9.873333\n",
       "3  20.000000  17.023333\n",
       "4  25.000000  25.000000"
      ]
     },
     "execution_count": 86,
     "metadata": {},
     "output_type": "execute_result"
    }
   ],
   "source": [
    "from sklearn.neighbors import KNeighborsRegressor\n",
    "knn = KNeighborsRegressor(n_neighbors=5, weights=\"uniform\")\n",
    "knn.fit(X_train, y_train)\n",
    "# смотрим разницу факта и прогноза для случайного леса\n",
    "result_knn = pd.DataFrame([np.array(y_valid), knn.predict(X_valid)]).T\n",
    "result_knn.columns = ['y_test', 'y_pred']\n",
    "result_knn.head()"
   ]
  },
  {
   "cell_type": "code",
   "execution_count": null,
   "metadata": {},
   "outputs": [
    {
     "data": {
      "text/plain": [
       "116.86820712268216"
      ]
     },
     "execution_count": 87,
     "metadata": {},
     "output_type": "execute_result"
    }
   ],
   "source": [
    "mean_squared_error(y_valid, knn.predict(X_valid))"
   ]
  },
  {
   "cell_type": "code",
   "execution_count": 80,
   "metadata": {},
   "outputs": [
    {
     "name": "stdout",
     "output_type": "stream",
     "text": [
      "Лучшее значение n_neighbors = 12\n",
      "Лучшее значение neg_mean_squared_error при этой глубине на тренировачной выборке = -98.50723057611484\n"
     ]
    }
   ],
   "source": [
    "#Поиском по сетке найдем оптимальное количество соседей\n",
    "dt_model = KNeighborsRegressor()\n",
    "param_grid = {'n_neighbors': list(range(1, 20))}\n",
    "grid_search = GridSearchCV(estimator=dt_model, param_grid=param_grid, scoring='neg_mean_squared_error', cv=5).fit(X_train, y_train)\n",
    "print(f\"Лучшее значение n_neighbors = {grid_search.best_params_['n_neighbors']}\")\n",
    "print(f'Лучшее значение neg_mean_squared_error при этой глубине на тренировачной выборке =', grid_search.best_score_)"
   ]
  },
  {
   "cell_type": "code",
   "execution_count": 90,
   "metadata": {},
   "outputs": [
    {
     "data": {
      "text/html": [
       "<div>\n",
       "<style scoped>\n",
       "    .dataframe tbody tr th:only-of-type {\n",
       "        vertical-align: middle;\n",
       "    }\n",
       "\n",
       "    .dataframe tbody tr th {\n",
       "        vertical-align: top;\n",
       "    }\n",
       "\n",
       "    .dataframe thead th {\n",
       "        text-align: right;\n",
       "    }\n",
       "</style>\n",
       "<table border=\"1\" class=\"dataframe\">\n",
       "  <thead>\n",
       "    <tr style=\"text-align: right;\">\n",
       "      <th></th>\n",
       "      <th>y_test</th>\n",
       "      <th>y_pred</th>\n",
       "    </tr>\n",
       "  </thead>\n",
       "  <tbody>\n",
       "    <tr>\n",
       "      <th>0</th>\n",
       "      <td>25.000000</td>\n",
       "      <td>17.333333</td>\n",
       "    </tr>\n",
       "    <tr>\n",
       "      <th>1</th>\n",
       "      <td>18.333333</td>\n",
       "      <td>12.677122</td>\n",
       "    </tr>\n",
       "    <tr>\n",
       "      <th>2</th>\n",
       "      <td>41.666667</td>\n",
       "      <td>20.687963</td>\n",
       "    </tr>\n",
       "    <tr>\n",
       "      <th>3</th>\n",
       "      <td>20.000000</td>\n",
       "      <td>14.801389</td>\n",
       "    </tr>\n",
       "    <tr>\n",
       "      <th>4</th>\n",
       "      <td>25.000000</td>\n",
       "      <td>19.456636</td>\n",
       "    </tr>\n",
       "  </tbody>\n",
       "</table>\n",
       "</div>"
      ],
      "text/plain": [
       "      y_test     y_pred\n",
       "0  25.000000  17.333333\n",
       "1  18.333333  12.677122\n",
       "2  41.666667  20.687963\n",
       "3  20.000000  14.801389\n",
       "4  25.000000  19.456636"
      ]
     },
     "execution_count": 90,
     "metadata": {},
     "output_type": "execute_result"
    }
   ],
   "source": [
    "knn = KNeighborsRegressor(n_neighbors=12, weights=\"uniform\")\n",
    "knn.fit(X_train, y_train)\n",
    "# смотрим разницу факта и прогноза для случайного леса\n",
    "result_knn = pd.DataFrame([np.array(y_valid), knn.predict(X_valid)]).T\n",
    "result_knn.columns = ['y_test', 'y_pred']\n",
    "result_knn.head()"
   ]
  },
  {
   "cell_type": "code",
   "execution_count": null,
   "metadata": {},
   "outputs": [
    {
     "data": {
      "text/plain": [
       "112.83178638497982"
      ]
     },
     "execution_count": 91,
     "metadata": {},
     "output_type": "execute_result"
    }
   ],
   "source": [
    "mean_squared_error(y_valid, knn.predict(X_valid))"
   ]
  },
  {
   "cell_type": "code",
   "execution_count": 92,
   "metadata": {},
   "outputs": [],
   "source": [
    "submission_knn = pd.DataFrame({\n",
    "    'index': test.index,\n",
    "    'mean_price': knn.predict(test)\n",
    "})\n",
    "submission_knn.to_csv('submission_knn.csv', index=False)"
   ]
  },
  {
   "attachments": {
    "image.png": {
     "image/png": "[encoded data removed]"
    }
   },
   "cell_type": "markdown",
   "metadata": {},
   "source": [
    "![image.png](attachment:image.png)"
   ]
  },
  {
   "cell_type": "markdown",
   "metadata": {},
   "source": [
    "**Ну и как финал попробуем стэкинг трех предыдущих моделей**"
   ]
  },
  {
   "cell_type": "code",
   "execution_count": 102,
   "metadata": {},
   "outputs": [
    {
     "data": {
      "text/html": [
       "<div>\n",
       "<style scoped>\n",
       "    .dataframe tbody tr th:only-of-type {\n",
       "        vertical-align: middle;\n",
       "    }\n",
       "\n",
       "    .dataframe tbody tr th {\n",
       "        vertical-align: top;\n",
       "    }\n",
       "\n",
       "    .dataframe thead th {\n",
       "        text-align: right;\n",
       "    }\n",
       "</style>\n",
       "<table border=\"1\" class=\"dataframe\">\n",
       "  <thead>\n",
       "    <tr style=\"text-align: right;\">\n",
       "      <th></th>\n",
       "      <th>y_test</th>\n",
       "      <th>y_pred</th>\n",
       "    </tr>\n",
       "  </thead>\n",
       "  <tbody>\n",
       "    <tr>\n",
       "      <th>0</th>\n",
       "      <td>25.000000</td>\n",
       "      <td>18.050604</td>\n",
       "    </tr>\n",
       "    <tr>\n",
       "      <th>1</th>\n",
       "      <td>18.333333</td>\n",
       "      <td>14.341936</td>\n",
       "    </tr>\n",
       "    <tr>\n",
       "      <th>2</th>\n",
       "      <td>41.666667</td>\n",
       "      <td>18.929009</td>\n",
       "    </tr>\n",
       "    <tr>\n",
       "      <th>3</th>\n",
       "      <td>20.000000</td>\n",
       "      <td>14.445938</td>\n",
       "    </tr>\n",
       "    <tr>\n",
       "      <th>4</th>\n",
       "      <td>25.000000</td>\n",
       "      <td>19.742655</td>\n",
       "    </tr>\n",
       "  </tbody>\n",
       "</table>\n",
       "</div>"
      ],
      "text/plain": [
       "      y_test     y_pred\n",
       "0  25.000000  18.050604\n",
       "1  18.333333  14.341936\n",
       "2  41.666667  18.929009\n",
       "3  20.000000  14.445938\n",
       "4  25.000000  19.742655"
      ]
     },
     "execution_count": 102,
     "metadata": {},
     "output_type": "execute_result"
    }
   ],
   "source": [
    "from sklearn.ensemble import StackingRegressor\n",
    "\n",
    "base_models = [\n",
    "    ('lr', LinearRegression()),\n",
    "    ('rf', RandomForestRegressor(max_depth=10, random_state=42)),\n",
    "    ('knn', KNeighborsRegressor(n_neighbors=12, weights=\"uniform\"))\n",
    "]\n",
    "# Создаём стекинг-регрессор\n",
    "stacking = StackingRegressor(estimators=base_models, final_estimator=LinearRegression(), passthrough=True)\n",
    "\n",
    "# Обучаем\n",
    "stacking.fit(X_train, y_train)\n",
    "\n",
    "# смотрим разницу факта и прогноза для случайного леса\n",
    "result_stacking = pd.DataFrame([np.array(y_valid), stacking.predict(X_valid)]).T\n",
    "result_stacking.columns = ['y_test', 'y_pred']\n",
    "result_stacking.head()\n"
   ]
  },
  {
   "cell_type": "code",
   "execution_count": 103,
   "metadata": {},
   "outputs": [
    {
     "data": {
      "text/plain": [
       "102.14938518537171"
      ]
     },
     "execution_count": 103,
     "metadata": {},
     "output_type": "execute_result"
    }
   ],
   "source": [
    "mean_squared_error(y_valid, stacking.predict(X_valid))"
   ]
  },
  {
   "cell_type": "code",
   "execution_count": 104,
   "metadata": {},
   "outputs": [],
   "source": [
    "submission_stacking = pd.DataFrame({\n",
    "    'index': test.index,\n",
    "    'mean_price': stacking.predict(test)\n",
    "})\n",
    "submission_stacking.to_csv('submission_stacking.csv', index=False)"
   ]
  },
  {
   "attachments": {
    "image-2.png": {
     "image/png": "[encoded data removed]"
    }
   },
   "cell_type": "markdown",
   "metadata": {},
   "source": [
    "![image-2.png](attachment:image-2.png)"
   ]
  },
  {
   "cell_type": "markdown",
   "metadata": {},
   "source": [
    "***Результат***"
   ]
  },
  {
   "cell_type": "code",
   "execution_count": 105,
   "metadata": {},
   "outputs": [
    {
     "data": {
      "text/html": [
       "<div>\n",
       "<style scoped>\n",
       "    .dataframe tbody tr th:only-of-type {\n",
       "        vertical-align: middle;\n",
       "    }\n",
       "\n",
       "    .dataframe tbody tr th {\n",
       "        vertical-align: top;\n",
       "    }\n",
       "\n",
       "    .dataframe thead th {\n",
       "        text-align: right;\n",
       "    }\n",
       "</style>\n",
       "<table border=\"1\" class=\"dataframe\">\n",
       "  <thead>\n",
       "    <tr style=\"text-align: right;\">\n",
       "      <th></th>\n",
       "      <th>Модель</th>\n",
       "      <th>mean_squared_error</th>\n",
       "    </tr>\n",
       "  </thead>\n",
       "  <tbody>\n",
       "    <tr>\n",
       "      <th>0</th>\n",
       "      <td>Линейная регрессия</td>\n",
       "      <td>108.265964</td>\n",
       "    </tr>\n",
       "    <tr>\n",
       "      <th>1</th>\n",
       "      <td>Случайный лес</td>\n",
       "      <td>103.867050</td>\n",
       "    </tr>\n",
       "    <tr>\n",
       "      <th>2</th>\n",
       "      <td>KNN</td>\n",
       "      <td>112.831786</td>\n",
       "    </tr>\n",
       "    <tr>\n",
       "      <th>3</th>\n",
       "      <td>Стекинг</td>\n",
       "      <td>102.149385</td>\n",
       "    </tr>\n",
       "  </tbody>\n",
       "</table>\n",
       "</div>"
      ],
      "text/plain": [
       "               Модель  mean_squared_error\n",
       "0  Линейная регрессия          108.265964\n",
       "1       Случайный лес          103.867050\n",
       "2                 KNN          112.831786\n",
       "3             Стекинг          102.149385"
      ]
     },
     "execution_count": 105,
     "metadata": {},
     "output_type": "execute_result"
    }
   ],
   "source": [
    "relult = (pd.DataFrame({'Модель': ['Линейная регрессия', 'Случайный лес', 'KNN', 'Стекинг'], \n",
    "                        'mean_squared_error': [mean_squared_error(y_valid, lr.predict(X_valid)) ,mean_squared_error(y_valid, rg_rf.predict(X_valid)), mean_squared_error(y_valid, knn.predict(X_valid)), mean_squared_error(y_valid, stacking.predict(X_valid))]\n",
    "                        }))\n",
    "relult"
   ]
  },
  {
   "cell_type": "markdown",
   "metadata": {},
   "source": [
    "***Победил стекинг***"
   ]
  }
 ],
 "metadata": {
  "kernelspec": {
   "display_name": "base",
   "language": "python",
   "name": "python3"
  },
  "language_info": {
   "codemirror_mode": {
    "name": "ipython",
    "version": 3
   },
   "file_extension": ".py",
   "mimetype": "text/x-python",
   "name": "python",
   "nbconvert_exporter": "python",
   "pygments_lexer": "ipython3",
   "version": "3.12.3"
  }
 },
 "nbformat": 4,
 "nbformat_minor": 2
}
