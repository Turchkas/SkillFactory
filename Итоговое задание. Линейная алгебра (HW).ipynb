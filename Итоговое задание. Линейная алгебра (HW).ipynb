{
 "cells": [
  {
   "cell_type": "code",
   "execution_count": 2,
   "metadata": {},
   "outputs": [
    {
     "data": {
      "text/html": [
       "<div>\n",
       "<style scoped>\n",
       "    .dataframe tbody tr th:only-of-type {\n",
       "        vertical-align: middle;\n",
       "    }\n",
       "\n",
       "    .dataframe tbody tr th {\n",
       "        vertical-align: top;\n",
       "    }\n",
       "\n",
       "    .dataframe thead th {\n",
       "        text-align: right;\n",
       "    }\n",
       "</style>\n",
       "<table border=\"1\" class=\"dataframe\">\n",
       "  <thead>\n",
       "    <tr style=\"text-align: right;\">\n",
       "      <th></th>\n",
       "      <th>Комнаты</th>\n",
       "      <th>Площадь</th>\n",
       "      <th>Этаж</th>\n",
       "      <th>Центр</th>\n",
       "      <th>Спальный1</th>\n",
       "      <th>Спальный2</th>\n",
       "      <th>Цена</th>\n",
       "    </tr>\n",
       "  </thead>\n",
       "  <tbody>\n",
       "    <tr>\n",
       "      <th>0</th>\n",
       "      <td>3</td>\n",
       "      <td>51</td>\n",
       "      <td>3</td>\n",
       "      <td>0</td>\n",
       "      <td>1</td>\n",
       "      <td>0</td>\n",
       "      <td>2200</td>\n",
       "    </tr>\n",
       "    <tr>\n",
       "      <th>1</th>\n",
       "      <td>1</td>\n",
       "      <td>30</td>\n",
       "      <td>1</td>\n",
       "      <td>0</td>\n",
       "      <td>1</td>\n",
       "      <td>0</td>\n",
       "      <td>1600</td>\n",
       "    </tr>\n",
       "    <tr>\n",
       "      <th>2</th>\n",
       "      <td>2</td>\n",
       "      <td>45</td>\n",
       "      <td>2</td>\n",
       "      <td>0</td>\n",
       "      <td>1</td>\n",
       "      <td>0</td>\n",
       "      <td>1900</td>\n",
       "    </tr>\n",
       "    <tr>\n",
       "      <th>3</th>\n",
       "      <td>3</td>\n",
       "      <td>55</td>\n",
       "      <td>1</td>\n",
       "      <td>0</td>\n",
       "      <td>1</td>\n",
       "      <td>0</td>\n",
       "      <td>2000</td>\n",
       "    </tr>\n",
       "    <tr>\n",
       "      <th>4</th>\n",
       "      <td>1</td>\n",
       "      <td>45</td>\n",
       "      <td>3</td>\n",
       "      <td>1</td>\n",
       "      <td>0</td>\n",
       "      <td>0</td>\n",
       "      <td>4500</td>\n",
       "    </tr>\n",
       "    <tr>\n",
       "      <th>5</th>\n",
       "      <td>3</td>\n",
       "      <td>100</td>\n",
       "      <td>3</td>\n",
       "      <td>1</td>\n",
       "      <td>0</td>\n",
       "      <td>0</td>\n",
       "      <td>7000</td>\n",
       "    </tr>\n",
       "    <tr>\n",
       "      <th>6</th>\n",
       "      <td>2</td>\n",
       "      <td>71</td>\n",
       "      <td>2</td>\n",
       "      <td>1</td>\n",
       "      <td>0</td>\n",
       "      <td>0</td>\n",
       "      <td>5000</td>\n",
       "    </tr>\n",
       "    <tr>\n",
       "      <th>7</th>\n",
       "      <td>1</td>\n",
       "      <td>31</td>\n",
       "      <td>2</td>\n",
       "      <td>0</td>\n",
       "      <td>0</td>\n",
       "      <td>1</td>\n",
       "      <td>1700</td>\n",
       "    </tr>\n",
       "    <tr>\n",
       "      <th>8</th>\n",
       "      <td>3</td>\n",
       "      <td>53</td>\n",
       "      <td>5</td>\n",
       "      <td>0</td>\n",
       "      <td>0</td>\n",
       "      <td>1</td>\n",
       "      <td>2100</td>\n",
       "    </tr>\n",
       "    <tr>\n",
       "      <th>9</th>\n",
       "      <td>1</td>\n",
       "      <td>33</td>\n",
       "      <td>3</td>\n",
       "      <td>0</td>\n",
       "      <td>0</td>\n",
       "      <td>1</td>\n",
       "      <td>1500</td>\n",
       "    </tr>\n",
       "    <tr>\n",
       "      <th>10</th>\n",
       "      <td>2</td>\n",
       "      <td>43</td>\n",
       "      <td>5</td>\n",
       "      <td>0</td>\n",
       "      <td>0</td>\n",
       "      <td>1</td>\n",
       "      <td>2000</td>\n",
       "    </tr>\n",
       "  </tbody>\n",
       "</table>\n",
       "</div>"
      ],
      "text/plain": [
       "    Комнаты  Площадь  Этаж  Центр  Спальный1  Спальный2  Цена\n",
       "0         3       51     3      0          1          0  2200\n",
       "1         1       30     1      0          1          0  1600\n",
       "2         2       45     2      0          1          0  1900\n",
       "3         3       55     1      0          1          0  2000\n",
       "4         1       45     3      1          0          0  4500\n",
       "5         3      100     3      1          0          0  7000\n",
       "6         2       71     2      1          0          0  5000\n",
       "7         1       31     2      0          0          1  1700\n",
       "8         3       53     5      0          0          1  2100\n",
       "9         1       33     3      0          0          1  1500\n",
       "10        2       43     5      0          0          1  2000"
      ]
     },
     "execution_count": 2,
     "metadata": {},
     "output_type": "execute_result"
    }
   ],
   "source": [
    "import pandas as pd\n",
    "\n",
    "df = pd.DataFrame({\n",
    "    \"Комнаты\": [3, 1, 2, 3, 1, 3, 2, 1, 3, 1, 2],\n",
    "    \"Площадь\": [51, 30, 45, 55, 45, 100, 71, 31, 53, 33, 43],\n",
    "    \"Этаж\": [3, 1, 2, 1, 3, 3, 2, 2, 5, 3, 5],\n",
    "    \"Центр\": [0, 0, 0, 0, 1, 1, 1, 0, 0, 0, 0],\n",
    "    \"Спальный1\": [1, 1, 1, 1, 0, 0, 0, 0, 0, 0, 0],\n",
    "    \"Спальный2\": [0, 0, 0, 0, 0, 0, 0, 1, 1, 1, 1],\n",
    "    \"Цена\": [2200, 1600, 1900, 2000, 4500, 7000, 5000, 1700, 2100, 1500, 2000]\n",
    "})\n",
    "\n",
    "df"
   ]
  },
  {
   "cell_type": "markdown",
   "metadata": {},
   "source": [
    "Задание №1"
   ]
  },
  {
   "cell_type": "code",
   "execution_count": 9,
   "metadata": {},
   "outputs": [],
   "source": [
    "import numpy as np\n",
    "\n",
    "def multiplication_order(A, B, C):\n",
    "    a_rows, a_cols = A.shape\n",
    "    b_rows, b_cols = B.shape\n",
    "    c_rows, c_cols = C.shape\n",
    "    \n",
    "    multiplication_1 = a_rows * a_cols * b_cols + a_rows * b_cols * c_cols\n",
    "   \n",
    "    multiplication_2 = b_rows * b_cols * c_cols + a_rows * b_cols * c_cols\n",
    "\n",
    "    if multiplication_1 <= multiplication_2:\n",
    "        return \"(AxB)xC\"\n",
    "    else:\n",
    "        return \"Ax(BxC)\"\n"
   ]
  },
  {
   "cell_type": "markdown",
   "metadata": {},
   "source": [
    "Задание №2"
   ]
  },
  {
   "cell_type": "code",
   "execution_count": 14,
   "metadata": {},
   "outputs": [
    {
     "data": {
      "text/plain": [
       "(3, 2)"
      ]
     },
     "execution_count": 14,
     "metadata": {},
     "output_type": "execute_result"
    }
   ],
   "source": [
    "import numpy as np\n",
    "\n",
    "def best_worst(X, Y):\n",
    "    combined = np.column_stack((X, Y))\n",
    "    corr_matrix = np.corrcoef(combined, rowvar=False)\n",
    "    \n",
    "    price_corr = corr_matrix[-1][:-1]\n",
    "    \n",
    "    max_corr_idx = np.argmax(np.abs(price_corr))\n",
    "    min_corr_idx = np.argmin(np.abs(price_corr))\n",
    "    \n",
    "    return max_corr_idx, min_corr_idx\n",
    "\n",
    "X = df.loc[:, ~df.columns.isin(['Цена'])]\n",
    "Y = df['Цена']\n",
    "\n",
    "best_worst(X, Y)\n"
   ]
  },
  {
   "cell_type": "markdown",
   "metadata": {},
   "source": [
    "Задание №3"
   ]
  },
  {
   "cell_type": "code",
   "execution_count": 21,
   "metadata": {},
   "outputs": [
    {
     "data": {
      "text/plain": [
       "5"
      ]
     },
     "execution_count": 21,
     "metadata": {},
     "output_type": "execute_result"
    }
   ],
   "source": [
    "import numpy as np\n",
    "\n",
    "def corr_rank(X):\n",
    "    corr_matrix = np.corrcoef(X, rowvar=False)\n",
    "    rank = np.linalg.matrix_rank(corr_matrix)\n",
    "    return rank\n",
    "\n",
    "X = df.loc[:, ~df.columns.isin(['Цена'])]\n",
    "\n",
    "corr_rank(X)\n"
   ]
  },
  {
   "cell_type": "markdown",
   "metadata": {},
   "source": [
    "Задание №4"
   ]
  },
  {
   "cell_type": "code",
   "execution_count": 16,
   "metadata": {},
   "outputs": [
    {
     "data": {
      "text/plain": [
       "array([[-0.33333333,  0.66666667],\n",
       "       [ 0.66666667, -0.33333333]])"
      ]
     },
     "execution_count": 16,
     "metadata": {},
     "output_type": "execute_result"
    }
   ],
   "source": [
    "import numpy as np\n",
    "\n",
    "def inverse_matrix(A):\n",
    "    determinant = np.linalg.det(A)\n",
    "    \n",
    "    if abs(determinant) < 1e-25:\n",
    "        return None\n",
    "    else:\n",
    "        return np.linalg.inv(A)\n",
    "\n",
    "A = np.array([[1, 2], [2, 1]])\n",
    "inverse_matrix(A)"
   ]
  },
  {
   "cell_type": "markdown",
   "metadata": {},
   "source": [
    "Задание №5"
   ]
  },
  {
   "cell_type": "code",
   "execution_count": 23,
   "metadata": {},
   "outputs": [
    {
     "data": {
      "text/plain": [
       "array([-574.12295766,   65.33255763,  141.80223878, 1566.16246224,\n",
       "         12.32450391, -315.34552489])"
      ]
     },
     "execution_count": 23,
     "metadata": {},
     "output_type": "execute_result"
    }
   ],
   "source": [
    "import numpy as np\n",
    "\n",
    "def fit_model(X, y):\n",
    "    XT_X = np.dot(X.T, X)\n",
    "    XT_X_inv = np.linalg.inv(XT_X)\n",
    "    XT_y = np.dot(X.T, y)\n",
    "    return np.dot(XT_X_inv, XT_y)\n",
    "\n",
    "X = df.loc[:, ~df.columns.isin(['Цена'])]\n",
    "y = df['Цена']\n",
    "\n",
    "fit_model(X, Y)\n"
   ]
  }
 ],
 "metadata": {
  "kernelspec": {
   "display_name": "base",
   "language": "python",
   "name": "python3"
  },
  "language_info": {
   "codemirror_mode": {
    "name": "ipython",
    "version": 3
   },
   "file_extension": ".py",
   "mimetype": "text/x-python",
   "name": "python",
   "nbconvert_exporter": "python",
   "pygments_lexer": "ipython3",
   "version": "3.12.7"
  }
 },
 "nbformat": 4,
 "nbformat_minor": 2
}
