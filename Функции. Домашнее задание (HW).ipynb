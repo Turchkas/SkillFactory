{
 "cells": [
  {
   "cell_type": "code",
   "execution_count": 260,
   "metadata": {
    "id": "MXXTuy_o0sjk"
   },
   "outputs": [],
   "source": [
    "!pip install -q -U kaggle_environments"
   ]
  },
  {
   "cell_type": "code",
   "execution_count": 261,
   "metadata": {
    "id": "yz23vWHD0wcj"
   },
   "outputs": [],
   "source": [
    "import random\n",
    "from kaggle_environments import make"
   ]
  },
  {
   "cell_type": "markdown",
   "metadata": {
    "id": "0kuo6IOxiRub"
   },
   "source": [
    "Опишем поведение агента, всегда играющего \"камень\" - это значение 0"
   ]
  },
  {
   "cell_type": "code",
   "execution_count": 262,
   "metadata": {
    "id": "bqTqV7B92rJ6"
   },
   "outputs": [],
   "source": [
    "def agent1(observation, configuration):\n",
    "    return 0  # всегда играет \"камень\""
   ]
  },
  {
   "cell_type": "markdown",
   "metadata": {
    "id": "et1J5hUGigeh"
   },
   "source": [
    "Этот агент всегда выбирает \"бумагу\"."
   ]
  },
  {
   "cell_type": "code",
   "execution_count": 263,
   "metadata": {
    "id": "7l6Ttw6qi0jk"
   },
   "outputs": [],
   "source": [
    "def agent2(observation, configuration):\n",
    "    return 1  # всегда играет \"бумага\""
   ]
  },
  {
   "cell_type": "markdown",
   "metadata": {
    "id": "ICk2QlwT6AiU"
   },
   "source": [
    "Этот агент всегда выбирает \"ножницы\"."
   ]
  },
  {
   "cell_type": "code",
   "execution_count": 264,
   "metadata": {
    "id": "c6FSrsyDuy-T"
   },
   "outputs": [],
   "source": [
    "def agent3(observation, configuration):\n",
    "    return 2  # всегда играет \"ножницы\""
   ]
  },
  {
   "cell_type": "markdown",
   "metadata": {
    "id": "kgTafB4V56i1"
   },
   "source": [
    "Этот агент выбирает случайное действие."
   ]
  },
  {
   "cell_type": "code",
   "execution_count": 265,
   "metadata": {
    "id": "cwOLWv3vu_iz"
   },
   "outputs": [],
   "source": [
    "def agent4(observation, configuration):\n",
    "    return random.choice([0, 1, 2])  # случайный выбор"
   ]
  },
  {
   "cell_type": "markdown",
   "metadata": {
    "id": "Q7EzOWRG54L3"
   },
   "source": [
    "Этот агент выбирает на первом действии камень, на втором контратакует"
   ]
  },
  {
   "cell_type": "code",
   "execution_count": 266,
   "metadata": {
    "id": "aMSq0f8FvD7r"
   },
   "outputs": [],
   "source": [
    "def agent5(observation, configuration):\n",
    "    if observation.step == 0:\n",
    "        return 0  # на первом ходе всегда \"камень\"\n",
    "    else:\n",
    "        return (observation.lastOpponentAction + 1) % 3  # контр-атакует"
   ]
  },
  {
   "cell_type": "markdown",
   "metadata": {
    "id": "XY1ZI1fO51QN"
   },
   "source": [
    "Этот агент чередует свои действия: камень -> ножницы -> бумага."
   ]
  },
  {
   "cell_type": "code",
   "execution_count": 267,
   "metadata": {
    "id": "tCTiVSRCvKBN"
   },
   "outputs": [],
   "source": [
    "def agent6(observation, configuration):\n",
    "    return (observation.step % 3)  # чередует действия: камень -> бумага -> ножницы"
   ]
  },
  {
   "cell_type": "markdown",
   "metadata": {
    "id": "aUtmIMJ1319k"
   },
   "source": [
    "Этот агент выбирает рандомно с различным весом"
   ]
  },
  {
   "cell_type": "code",
   "execution_count": 268,
   "metadata": {
    "id": "qV6dbAql0h5N"
   },
   "outputs": [],
   "source": [
    "def agent7(observation, configuration):\n",
    "    return random.choices([0, 1, 2], weights=[0.5, 0.3, 0.2])[0]  # случайный выбор с весами"
   ]
  },
  {
   "cell_type": "markdown",
   "metadata": {
    "id": "iLPAFQ823zz0"
   },
   "source": [
    "Этот агент всегда повторяет последнее действие противника"
   ]
  },
  {
   "cell_type": "code",
   "execution_count": 269,
   "metadata": {
    "id": "8xEIaBQx03a6"
   },
   "outputs": [],
   "source": [
    "def agent8(observation, configuration):\n",
    "    return observation.lastOpponentAction if observation.step > 0 else 0  # повторяет последнее действие противника"
   ]
  },
  {
   "cell_type": "markdown",
   "metadata": {
    "id": "MwCzahIo3x6I"
   },
   "source": [
    "Этот агент всегда меняет действие"
   ]
  },
  {
   "cell_type": "code",
   "execution_count": 270,
   "metadata": {
    "id": "3agNtOjL07eB"
   },
   "outputs": [],
   "source": [
    "def agent9(observation, configuration):\n",
    "    return (observation.step + 1) % 3  # всегда меняет действие"
   ]
  },
  {
   "cell_type": "markdown",
   "metadata": {
    "id": "nP21YbGp3vCq"
   },
   "source": [
    "Этот агент начинает с камня, затем бумага и так по кругу"
   ]
  },
  {
   "cell_type": "code",
   "execution_count": 271,
   "metadata": {
    "id": "IMimbpcU0_4M"
   },
   "outputs": [],
   "source": [
    "def agent10(observation, configuration):\n",
    "    if observation.step % 2 == 0:\n",
    "        return 0  # на четных ходах \"камень\"\n",
    "    else:\n",
    "        return 1  # на нечетных ходах \"бумага\""
   ]
  },
  {
   "cell_type": "markdown",
   "metadata": {
    "id": "II2QkSEA3tVo"
   },
   "source": [
    "Этот агент каждый второй ход меняет действие"
   ]
  },
  {
   "cell_type": "code",
   "execution_count": 272,
   "metadata": {
    "id": "1UQcbRvV1EFz"
   },
   "outputs": [],
   "source": [
    "def agent11(observation, configuration):\n",
    "    return (observation.step // 2) % 3  # каждый второй ход меняет действие"
   ]
  },
  {
   "cell_type": "markdown",
   "metadata": {
    "id": "aez-fLMr3q4i"
   },
   "source": [
    "Этот агент делает случайный выбор между \"камнем\" и \"бумагой\""
   ]
  },
  {
   "cell_type": "code",
   "execution_count": 273,
   "metadata": {
    "id": "OqskvO7j1H6D"
   },
   "outputs": [],
   "source": [
    "def agent12(observation, configuration):\n",
    "    return random.choice([0, 1])  # случайный выбор между \"камнем\" и \"бумагой\""
   ]
  },
  {
   "cell_type": "markdown",
   "metadata": {
    "id": "uP-xnUZY3ocx"
   },
   "source": [
    "Этот агент деает случайный выбор между \"бумагой\" и \"ножницами\""
   ]
  },
  {
   "cell_type": "code",
   "execution_count": 274,
   "metadata": {
    "id": "pFAjXYy81MnG"
   },
   "outputs": [],
   "source": [
    "def agent13(observation, configuration):\n",
    "    return random.choice([1, 2])  # случайный выбор между \"бумагой\" и \"ножницами\""
   ]
  },
  {
   "cell_type": "code",
   "execution_count": 275,
   "metadata": {
    "id": "ajceFH7LtyrU"
   },
   "outputs": [],
   "source": [
    "#Список агентов\n",
    "agents = [agent1, agent2, agent3, agent4, agent5,\n",
    "          agent6, agent7, agent8, agent9,\n",
    "          agent10, agent11, agent12, agent13]"
   ]
  },
  {
   "cell_type": "code",
   "execution_count": 278,
   "metadata": {
    "colab": {
     "base_uri": "https://localhost:8080/"
    },
    "id": "_45krnOVm_CV",
    "outputId": "a62c1fbe-91a6-4e83-f5a1-13d57e160adf"
   },
   "outputs": [
    {
     "name": "stdout",
     "output_type": "stream",
     "text": [
      "Победитель: Агент 1 с 740 очками.\n"
     ]
    }
   ],
   "source": [
    "# Создаем словарь для подсчета очков\n",
    "scores = {i: 0 for i in range(len(agents))}\n",
    "\n",
    "# Число игр между каждым агентом\n",
    "num_games = 100\n",
    "\n",
    "# Проведение турнира\n",
    "for i in range(len(agents)):\n",
    "    for j in range(i + 1, len(agents)):\n",
    "        tournament = make('rps', configuration={'episodeSteps': num_games})\n",
    "        results = tournament.run([agents[i], agents[j]])\n",
    "\n",
    "        score_i = sum(1 for result in results if result[0]['reward'] > result[1]['reward'])\n",
    "        score_j = sum(1 for result in results if result[0]['reward'] < result[1]['reward'])\n",
    "\n",
    "        scores[i] += score_i\n",
    "        scores[j] += score_j\n",
    "\n",
    "# Определение победителя\n",
    "winner_index = max(scores, key=scores.get)\n",
    "print(f\"Победитель: Агент {winner_index} с {scores[winner_index]} очками.\")"
   ]
  }
 ],
 "metadata": {
  "colab": {
   "provenance": []
  },
  "kernelspec": {
   "display_name": "Python 3",
   "name": "python3"
  },
  "language_info": {
   "name": "python"
  }
 },
 "nbformat": 4,
 "nbformat_minor": 0
}
